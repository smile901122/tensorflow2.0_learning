{
 "cells": [
  {
   "cell_type": "markdown",
   "metadata": {},
   "source": [
    "# 使用低级api训练(非tf.keras)"
   ]
  },
  {
   "cell_type": "code",
   "execution_count": 1,
   "metadata": {},
   "outputs": [],
   "source": [
    "from __future__ import absolute_import, division, print_function\n",
    "import tensorflow as tf"
   ]
  },
  {
   "cell_type": "markdown",
   "metadata": {},
   "source": [
    "## Variables"
   ]
  },
  {
   "cell_type": "markdown",
   "metadata": {},
   "source": [
    "TensorFlow的张量是不可变的无状态对象。当我们有要改变的张量时，可以使用python的特性，把计算得到的值赋给这个python变量。"
   ]
  },
  {
   "cell_type": "code",
   "execution_count": 2,
   "metadata": {},
   "outputs": [
    {
     "name": "stdout",
     "output_type": "stream",
     "text": [
      "tf.Tensor(\n",
      "[[4. 4. 4. 4. 4. 4.]\n",
      " [4. 4. 4. 4. 4. 4.]\n",
      " [4. 4. 4. 4. 4. 4.]\n",
      " [4. 4. 4. 4. 4. 4.]\n",
      " [4. 4. 4. 4. 4. 4.]\n",
      " [4. 4. 4. 4. 4. 4.]], shape=(6, 6), dtype=float32)\n"
     ]
    }
   ],
   "source": [
    "x = tf.ones([6,6])\n",
    "x = x + 3 # x+3后得到了一个新的张量，并把这个张量赋给x\n",
    "print(x)"
   ]
  },
  {
   "cell_type": "markdown",
   "metadata": {},
   "source": [
    "然而机器学习中间需要变化的状态（每个参数朝损失变小的方向改变，所以TensorFlow也要内置有状态的操作，这就是Variables，它可以表示模型中的参数，而且方便高效。\n",
    "\n",
    "Variables是一个存在值的对象，当其被使用是，它被隐式地被从存储中读取，而当有诸如tf.assign_sub, tf.scatter_update这样的操作时，得到的新值会储存到原对象中。"
   ]
  },
  {
   "cell_type": "code",
   "execution_count": 3,
   "metadata": {},
   "outputs": [
    {
     "name": "stdout",
     "output_type": "stream",
     "text": [
      "<tf.Variable 'Variable:0' shape=() dtype=int32, numpy=6>\n",
      "<tf.Variable 'Variable:0' shape=() dtype=int32, numpy=15>\n"
     ]
    }
   ],
   "source": [
    "v = tf.Variable(2)\n",
    "v.assign(6)\n",
    "print(v)\n",
    "\n",
    "v.assign_add(tf.square(3))\n",
    "print(v)"
   ]
  },
  {
   "cell_type": "markdown",
   "metadata": {},
   "source": [
    "注：梯度计算时会自动跟踪变量的计算（不用watch），对表示嵌入的变量，TensorFlow会默认使用稀疏更新，这样可以提高计算和存储效率。"
   ]
  },
  {
   "cell_type": "markdown",
   "metadata": {},
   "source": [
    "## 拟合线性模型"
   ]
  },
  {
   "cell_type": "markdown",
   "metadata": {},
   "source": [
    "使用Tensor， Variable和GradientTape这些简单的要是，就可以构建一个简单的模型。步骤如下：\n",
    "\n",
    "- 定义模型\n",
    "- 定义损失函数\n",
    "- 获取训练数据\n",
    "- 模型训练，使用优化器调整变量"
   ]
  },
  {
   "cell_type": "markdown",
   "metadata": {},
   "source": [
    "在下面我们会构造一个简单的线性模型：f(x) = W + b, 它有2个变量W和b，同时我们会使用W=3.0，b=2.0来构造数据，用于学习。"
   ]
  },
  {
   "cell_type": "markdown",
   "metadata": {},
   "source": [
    "### 定义模型"
   ]
  },
  {
   "cell_type": "markdown",
   "metadata": {},
   "source": [
    "我们把模型定义为一个简单的类，里面封装了变量和计算"
   ]
  },
  {
   "cell_type": "code",
   "execution_count": 4,
   "metadata": {},
   "outputs": [
    {
     "name": "stdout",
     "output_type": "stream",
     "text": [
      "tf.Tensor(10.0, shape=(), dtype=float32)\n"
     ]
    }
   ],
   "source": [
    "class Model(object):\n",
    "    def __init__(self):\n",
    "        # 初始化变量\n",
    "        self.W = tf.Variable(5.0)\n",
    "        self.b = tf.Variable(0.0)\n",
    "\n",
    "    def __call__(self, x):\n",
    "        return self.W * x + self.b\n",
    "    \n",
    "# 测试\n",
    "model = Model()\n",
    "print(model(2))"
   ]
  },
  {
   "cell_type": "markdown",
   "metadata": {},
   "source": [
    "### 定义损失函数"
   ]
  },
  {
   "cell_type": "markdown",
   "metadata": {},
   "source": [
    "损失函数测量给定输入的模型输出与期望输出的匹配程度。 这里使用标准的L2损失。"
   ]
  },
  {
   "cell_type": "code",
   "execution_count": 5,
   "metadata": {},
   "outputs": [],
   "source": [
    "def loss(predicted_y, true_y):\n",
    "    return tf.reduce_mean(tf.square(predicted_y - true_y))"
   ]
  },
  {
   "cell_type": "markdown",
   "metadata": {},
   "source": [
    "### 获取训练数据"
   ]
  },
  {
   "cell_type": "code",
   "execution_count": 6,
   "metadata": {},
   "outputs": [],
   "source": [
    "TRUE_W = 3.0\n",
    "TRUE_b = 2.0\n",
    "num = 1000\n",
    "\n",
    "# 随机输入\n",
    "inputs = tf.random.normal(shape=[num])\n",
    "# 随机噪音\n",
    "noise = tf.random.normal(shape=[num])\n",
    "\n",
    "# 构造数据\n",
    "outputs = TRUE_W * inputs + TRUE_b + noise"
   ]
  },
  {
   "cell_type": "code",
   "execution_count": 8,
   "metadata": {},
   "outputs": [
    {
     "data": {
      "image/png": "[encoded data removed]",
      "text/plain": [
       "<Figure size 432x288 with 1 Axes>"
      ]
     },
     "metadata": {
      "needs_background": "light"
     },
     "output_type": "display_data"
    },
    {
     "name": "stdout",
     "output_type": "stream",
     "text": [
      "Init Loss:\n",
      "tf.Tensor(9.666454, shape=(), dtype=float32)\n"
     ]
    }
   ],
   "source": [
    "import matplotlib.pyplot as plt\n",
    "\n",
    "%matplotlib inline\n",
    "\n",
    "plt.scatter(inputs, outputs, c='b')\n",
    "plt.scatter(inputs, model(inputs), c='r')\n",
    "plt.show()\n",
    "\n",
    "# 当前loss\n",
    "print('Init Loss:')\n",
    "print(loss(model(inputs), outputs))"
   ]
  },
  {
   "cell_type": "markdown",
   "metadata": {},
   "source": [
    "### 定义训练循环"
   ]
  },
  {
   "cell_type": "markdown",
   "metadata": {},
   "source": [
    "我们现在已经有了模型和训练数据。 我们准备开始训练，即使用训练数据来更新模型的变量（W和b），以便使用梯度下降来减少损失。 在tf.train.Optimizer中实现了许多梯度下降方案的变体。 强烈建议大家使用这些实现，但本着从第一原则构建的精神，在这个特定的例子中，我们将自己实现基本的优化器。"
   ]
  },
  {
   "cell_type": "code",
   "execution_count": 9,
   "metadata": {},
   "outputs": [],
   "source": [
    "def train(model, inputs, outputs, learning_rate):\n",
    "    # 记录loss计算过程\n",
    "    with tf.GradientTape() as t:\n",
    "        current_loss = loss(model(inputs), outputs)\n",
    "        # 对W，b求导\n",
    "        dW, db = t.gradient(current_loss, [model.W, model.b])\n",
    "        # 减去梯度×学习率\n",
    "        model.W.assign_sub(dW*learning_rate)\n",
    "        model.b.assign_sub(db*learning_rate)"
   ]
  },
  {
   "cell_type": "code",
   "execution_count": 10,
   "metadata": {},
   "outputs": [
    {
     "name": "stdout",
     "output_type": "stream",
     "text": [
      "Epoch  0: W=5.00 b=0.00, loss=9.66645\n",
      "Epoch  1: W=4.55 b=0.41, loss=6.37975\n",
      "Epoch  2: W=4.21 b=0.74, loss=4.34116\n",
      "Epoch  3: W=3.93 b=1.00, loss=3.07632\n",
      "Epoch  4: W=3.72 b=1.20, loss=2.29130\n",
      "Epoch  5: W=3.56 b=1.37, loss=1.80392\n",
      "Epoch  6: W=3.43 b=1.50, loss=1.50123\n",
      "Epoch  7: W=3.32 b=1.60, loss=1.31317\n",
      "Epoch  8: W=3.25 b=1.69, loss=1.19629\n",
      "Epoch  9: W=3.18 b=1.75, loss=1.12363\n"
     ]
    },
    {
     "data": {
      "image/png": "[encoded data removed]",
      "text/plain": [
       "<Figure size 432x288 with 1 Axes>"
      ]
     },
     "metadata": {
      "needs_background": "light"
     },
     "output_type": "display_data"
    }
   ],
   "source": [
    "model= Model()\n",
    "\n",
    "# 收集W，b画图\n",
    "Ws, bs = [], []\n",
    "for epoch in range(10):\n",
    "    Ws.append(model.W.numpy())\n",
    "    bs.append(model.b.numpy())\n",
    "    # 计算loss\n",
    "    current_loss = loss(model(inputs), outputs)\n",
    "    train(model, inputs, outputs, learning_rate=0.1)\n",
    "    print('Epoch %2d: W=%1.2f b=%1.2f, loss=%2.5f' %\n",
    "        (epoch, Ws[-1], bs[-1], current_loss))\n",
    "    \n",
    "# 画图\n",
    "epochs = range(10)\n",
    "plt.plot(epochs, Ws, 'r',\n",
    "         epochs, bs, 'b')\n",
    "plt.plot([TRUE_W] * len(epochs), 'r--',\n",
    "         [TRUE_b] * len(epochs), 'b--')\n",
    "plt.legend(['W', 'b', 'true W', 'true_b'])\n",
    "plt.show()"
   ]
  },
  {
   "cell_type": "code",
   "execution_count": null,
   "metadata": {},
   "outputs": [],
   "source": []
  }
 ],
 "metadata": {
  "kernelspec": {
   "display_name": "Python 3",
   "language": "python",
   "name": "python3"
  },
  "language_info": {
   "codemirror_mode": {
    "name": "ipython",
    "version": 3
   },
   "file_extension": ".py",
   "mimetype": "text/x-python",
   "name": "python",
   "nbconvert_exporter": "python",
   "pygments_lexer": "ipython3",
   "version": "3.7.3"
  }
 },
 "nbformat": 4,
 "nbformat_minor": 2
}
