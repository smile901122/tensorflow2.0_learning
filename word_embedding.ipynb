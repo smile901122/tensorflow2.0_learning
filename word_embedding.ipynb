{
 "cells": [
  {
   "cell_type": "markdown",
   "metadata": {},
   "source": [
    "# 词嵌入"
   ]
  },
  {
   "cell_type": "code",
   "execution_count": 1,
   "metadata": {},
   "outputs": [
    {
     "name": "stdout",
     "output_type": "stream",
     "text": [
      "2.0.0-rc0\n"
     ]
    }
   ],
   "source": [
    "from __future__ import absolute_import, division, print_function\n",
    "import tensorflow as tf\n",
    "import tensorflow.keras as keras\n",
    "import tensorflow.keras.layers as layers\n",
    "print(tf.__version__)"
   ]
  },
  {
   "cell_type": "markdown",
   "metadata": {},
   "source": [
    "## 载入数据"
   ]
  },
  {
   "cell_type": "code",
   "execution_count": 2,
   "metadata": {},
   "outputs": [
    {
     "name": "stdout",
     "output_type": "stream",
     "text": [
      "[1, 14, 22, 16, 43, 530, 973, 1622, 1385, 65, 458, 4468, 66, 3941, 4, 173, 36, 256, 5, 25, 100, 43, 838, 112, 50, 670, 2, 9, 35, 480, 284, 5, 150, 4, 172, 112, 167, 2, 336, 385, 39, 4, 172, 4536, 1111, 17, 546, 38, 13, 447, 4, 192, 50, 16, 6, 147, 2025, 19, 14, 22, 4, 1920, 4613, 469, 4, 22, 71, 87, 12, 16, 43, 530, 38, 76, 15, 13, 1247, 4, 22, 17, 515, 17, 12, 16, 626, 18, 2, 5, 62, 386, 12, 8, 316, 8, 106, 5, 4, 2223, 5244, 16, 480, 66, 3785, 33, 4, 130, 12, 16, 38, 619, 5, 25, 124, 51, 36, 135, 48, 25, 1415, 33, 6, 22, 12, 215, 28, 77, 52, 5, 14, 407, 16, 82, 2, 8, 4, 107, 117, 5952, 15, 256, 4, 2, 7, 3766, 5, 723, 36, 71, 43, 530, 476, 26, 400, 317, 46, 7, 4, 2, 1029, 13, 104, 88, 4, 381, 15, 297, 98, 32, 2071, 56, 26, 141, 6, 194, 7486, 18, 4, 226, 22, 21, 134, 476, 26, 480, 5, 144, 30, 5535, 18, 51, 36, 28, 224, 92, 25, 104, 4, 226, 65, 16, 38, 1334, 88, 12, 16, 283, 5, 16, 4472, 113, 103, 32, 15, 16, 5345, 19, 178, 32]\n",
      "[1, 194, 1153, 194, 8255, 78, 228, 5, 6, 1463, 4369, 5012, 134, 26, 4, 715, 8, 118, 1634, 14, 394, 20, 13, 119, 954, 189, 102, 5, 207, 110, 3103, 21, 14, 69, 188, 8, 30, 23, 7, 4, 249, 126, 93, 4, 114, 9, 2300, 1523, 5, 647, 4, 116, 9, 35, 8163, 4, 229, 9, 340, 1322, 4, 118, 9, 4, 130, 4901, 19, 4, 1002, 5, 89, 29, 952, 46, 37, 4, 455, 9, 45, 43, 38, 1543, 1905, 398, 4, 1649, 26, 6853, 5, 163, 11, 3215, 2, 4, 1153, 9, 194, 775, 7, 8255, 2, 349, 2637, 148, 605, 2, 8003, 15, 123, 125, 68, 2, 6853, 15, 349, 165, 4362, 98, 5, 4, 228, 9, 43, 2, 1157, 15, 299, 120, 5, 120, 174, 11, 220, 175, 136, 50, 9, 4373, 228, 8255, 5, 2, 656, 245, 2350, 5, 4, 9837, 131, 152, 491, 18, 2, 32, 7464, 1212, 14, 9, 6, 371, 78, 22, 625, 64, 1382, 9, 8, 168, 145, 23, 4, 1690, 15, 16, 4, 1355, 5, 28, 6, 52, 154, 462, 33, 89, 78, 285, 16, 145, 95]\n"
     ]
    }
   ],
   "source": [
    "vocab_size = 10000\n",
    "(train_x, train_y), (test_x, text_y) = keras.datasets.imdb.load_data(num_words=vocab_size)\n",
    "print(train_x[0])\n",
    "print(train_x[1])"
   ]
  },
  {
   "cell_type": "code",
   "execution_count": 3,
   "metadata": {},
   "outputs": [
    {
     "name": "stdout",
     "output_type": "stream",
     "text": [
      "<START> this film was just brilliant casting location scenery story direction everyone's really suited the part they played and you could just imagine being there robert <UNK> is an amazing actor and now the same being director <UNK> father came from the same scottish island as myself so i loved the fact there was a real connection with this film the witty remarks throughout the film were great it was just brilliant so much that i bought the film as soon as it was released for <UNK> and would recommend it to everyone to watch and the fly fishing was amazing really cried at the end it was so sad and you know what they say if you cry at a film it must have been good and this definitely was also <UNK> to the two little boy's that played the <UNK> of norman and paul they were just brilliant children are often left out of the <UNK> list i think because the stars that play them all grown up are such a big profile for the whole film but these children are amazing and should be praised for what they have done don't you think the whole story was so lovely because it was true and was someone's life after all that was shared with us all\n"
     ]
    }
   ],
   "source": [
    "word_index = keras.datasets.imdb.get_word_index()\n",
    "word_index = {k:(v+3) for k,v in word_index.items()}\n",
    "word_index['<PAD>'] = 0\n",
    "word_index['<START>'] = 1\n",
    "word_index['<UNK>'] = 2\n",
    "word_index['<UNUSED>'] = 3\n",
    "reverse_word_index = {v:k for k, v in word_index.items()}\n",
    "def decode_review(text):\n",
    "    return ' '.join([reverse_word_index.get(i, '?') for i in text])\n",
    "print(decode_review(train_x[0]))"
   ]
  },
  {
   "cell_type": "code",
   "execution_count": 4,
   "metadata": {},
   "outputs": [],
   "source": [
    "maxlen = 500\n",
    "train_x = keras.preprocessing.sequence.pad_sequences(train_x,value=word_index['<PAD>'],\n",
    "                                                    padding='post', maxlen=maxlen)\n",
    "test_x = keras.preprocessing.sequence.pad_sequences(test_x,value=word_index['<PAD>'],\n",
    "                                                    padding='post', maxlen=maxlen)"
   ]
  },
  {
   "cell_type": "markdown",
   "metadata": {},
   "source": [
    "## 构建模型"
   ]
  },
  {
   "cell_type": "code",
   "execution_count": 5,
   "metadata": {},
   "outputs": [
    {
     "name": "stdout",
     "output_type": "stream",
     "text": [
      "Model: \"sequential\"\n",
      "_________________________________________________________________\n",
      "Layer (type)                 Output Shape              Param #   \n",
      "=================================================================\n",
      "embedding (Embedding)        (None, 500, 16)           160000    \n",
      "_________________________________________________________________\n",
      "global_average_pooling1d (Gl (None, 16)                0         \n",
      "_________________________________________________________________\n",
      "dense (Dense)                (None, 16)                272       \n",
      "_________________________________________________________________\n",
      "dense_1 (Dense)              (None, 1)                 17        \n",
      "=================================================================\n",
      "Total params: 160,289\n",
      "Trainable params: 160,289\n",
      "Non-trainable params: 0\n",
      "_________________________________________________________________\n"
     ]
    }
   ],
   "source": [
    "embedding_dim = 16\n",
    "model = keras.Sequential([\n",
    "    layers.Embedding(vocab_size, embedding_dim, input_length=maxlen),\n",
    "    layers.GlobalAveragePooling1D(),\n",
    "    layers.Dense(16, activation='relu'),\n",
    "    layers.Dense(1, activation='sigmoid')\n",
    "    \n",
    "])\n",
    "model.summary()"
   ]
  },
  {
   "cell_type": "code",
   "execution_count": 6,
   "metadata": {},
   "outputs": [
    {
     "name": "stderr",
     "output_type": "stream",
     "text": [
      "WARNING: Logging before flag parsing goes to stderr.\n",
      "W0909 17:50:43.588218 140735620006784 deprecation.py:323] From /usr/local/lib/python3.7/site-packages/tensorflow_core/python/ops/nn_impl.py:183: where (from tensorflow.python.ops.array_ops) is deprecated and will be removed in a future version.\n",
      "Instructions for updating:\n",
      "Use tf.where in 2.0, which has the same broadcast rule as np.where\n"
     ]
    },
    {
     "name": "stdout",
     "output_type": "stream",
     "text": [
      "Train on 22500 samples, validate on 2500 samples\n",
      "Epoch 1/30\n",
      "22500/22500 [==============================] - 1s 58us/sample - loss: 0.6917 - accuracy: 0.6117 - val_loss: 0.6891 - val_accuracy: 0.6916\n",
      "Epoch 2/30\n",
      "22500/22500 [==============================] - 1s 25us/sample - loss: 0.6837 - accuracy: 0.6561 - val_loss: 0.6776 - val_accuracy: 0.6224\n",
      "Epoch 3/30\n",
      "22500/22500 [==============================] - 1s 24us/sample - loss: 0.6650 - accuracy: 0.7227 - val_loss: 0.6503 - val_accuracy: 0.7696\n",
      "Epoch 4/30\n",
      "22500/22500 [==============================] - 1s 26us/sample - loss: 0.6310 - accuracy: 0.7792 - val_loss: 0.6107 - val_accuracy: 0.7812\n",
      "Epoch 5/30\n",
      "22500/22500 [==============================] - 1s 25us/sample - loss: 0.5839 - accuracy: 0.8033 - val_loss: 0.5617 - val_accuracy: 0.7976\n",
      "Epoch 6/30\n",
      "22500/22500 [==============================] - 1s 24us/sample - loss: 0.5305 - accuracy: 0.8227 - val_loss: 0.5107 - val_accuracy: 0.8288\n",
      "Epoch 7/30\n",
      "22500/22500 [==============================] - 1s 24us/sample - loss: 0.4772 - accuracy: 0.8460 - val_loss: 0.4649 - val_accuracy: 0.8420\n",
      "Epoch 8/30\n",
      "22500/22500 [==============================] - 1s 26us/sample - loss: 0.4294 - accuracy: 0.8595 - val_loss: 0.4286 - val_accuracy: 0.8460\n",
      "Epoch 9/30\n",
      "22500/22500 [==============================] - 1s 25us/sample - loss: 0.3897 - accuracy: 0.8731 - val_loss: 0.3965 - val_accuracy: 0.8612\n",
      "Epoch 10/30\n",
      "22500/22500 [==============================] - 1s 25us/sample - loss: 0.3571 - accuracy: 0.8819 - val_loss: 0.3734 - val_accuracy: 0.8684\n",
      "Epoch 11/30\n",
      "22500/22500 [==============================] - 1s 25us/sample - loss: 0.3310 - accuracy: 0.8896 - val_loss: 0.3557 - val_accuracy: 0.8720\n",
      "Epoch 12/30\n",
      "22500/22500 [==============================] - 1s 24us/sample - loss: 0.3089 - accuracy: 0.8963 - val_loss: 0.3418 - val_accuracy: 0.8712\n",
      "Epoch 13/30\n",
      "22500/22500 [==============================] - 1s 25us/sample - loss: 0.2904 - accuracy: 0.9011 - val_loss: 0.3307 - val_accuracy: 0.8760\n",
      "Epoch 14/30\n",
      "22500/22500 [==============================] - 1s 26us/sample - loss: 0.2745 - accuracy: 0.9066 - val_loss: 0.3216 - val_accuracy: 0.8804\n",
      "Epoch 15/30\n",
      "22500/22500 [==============================] - 1s 25us/sample - loss: 0.2607 - accuracy: 0.9114 - val_loss: 0.3148 - val_accuracy: 0.8816\n",
      "Epoch 16/30\n",
      "22500/22500 [==============================] - 1s 26us/sample - loss: 0.2483 - accuracy: 0.9151 - val_loss: 0.3090 - val_accuracy: 0.8824\n",
      "Epoch 17/30\n",
      "22500/22500 [==============================] - 1s 25us/sample - loss: 0.2375 - accuracy: 0.9181 - val_loss: 0.3038 - val_accuracy: 0.8824\n",
      "Epoch 18/30\n",
      "22500/22500 [==============================] - 1s 27us/sample - loss: 0.2276 - accuracy: 0.9207 - val_loss: 0.3002 - val_accuracy: 0.8848\n",
      "Epoch 19/30\n",
      "22500/22500 [==============================] - 1s 25us/sample - loss: 0.2182 - accuracy: 0.9244 - val_loss: 0.2978 - val_accuracy: 0.8820\n",
      "Epoch 20/30\n",
      "22500/22500 [==============================] - 1s 26us/sample - loss: 0.2098 - accuracy: 0.9279 - val_loss: 0.2947 - val_accuracy: 0.8852\n",
      "Epoch 21/30\n",
      "22500/22500 [==============================] - 1s 25us/sample - loss: 0.2021 - accuracy: 0.9309 - val_loss: 0.2923 - val_accuracy: 0.8860\n",
      "Epoch 22/30\n",
      "22500/22500 [==============================] - 1s 26us/sample - loss: 0.1950 - accuracy: 0.9340 - val_loss: 0.2915 - val_accuracy: 0.8872\n",
      "Epoch 23/30\n",
      "22500/22500 [==============================] - 1s 25us/sample - loss: 0.1880 - accuracy: 0.9358 - val_loss: 0.2910 - val_accuracy: 0.8888\n",
      "Epoch 24/30\n",
      "22500/22500 [==============================] - 1s 24us/sample - loss: 0.1818 - accuracy: 0.9385 - val_loss: 0.2899 - val_accuracy: 0.8900\n",
      "Epoch 25/30\n",
      "22500/22500 [==============================] - 1s 25us/sample - loss: 0.1755 - accuracy: 0.9413 - val_loss: 0.2895 - val_accuracy: 0.8908\n",
      "Epoch 26/30\n",
      "22500/22500 [==============================] - 1s 23us/sample - loss: 0.1702 - accuracy: 0.9443 - val_loss: 0.2909 - val_accuracy: 0.8904\n",
      "Epoch 27/30\n",
      "22500/22500 [==============================] - 1s 26us/sample - loss: 0.1649 - accuracy: 0.9456 - val_loss: 0.2903 - val_accuracy: 0.8916\n",
      "Epoch 28/30\n",
      "22500/22500 [==============================] - 1s 25us/sample - loss: 0.1599 - accuracy: 0.9470 - val_loss: 0.2911 - val_accuracy: 0.8924\n",
      "Epoch 29/30\n",
      "22500/22500 [==============================] - 1s 25us/sample - loss: 0.1551 - accuracy: 0.9492 - val_loss: 0.2952 - val_accuracy: 0.8892\n",
      "Epoch 30/30\n",
      "22500/22500 [==============================] - 1s 26us/sample - loss: 0.1516 - accuracy: 0.9507 - val_loss: 0.2943 - val_accuracy: 0.8908\n"
     ]
    }
   ],
   "source": [
    "model.compile(optimizer=keras.optimizers.Adam(),\n",
    "             loss=keras.losses.BinaryCrossentropy(),\n",
    "             metrics=['accuracy'])\n",
    "history = model.fit(train_x, train_y, epochs=30, batch_size=512, validation_split=0.1)"
   ]
  },
  {
   "cell_type": "code",
   "execution_count": 11,
   "metadata": {},
   "outputs": [
    {
     "data": {
      "image/png": "[encoded data removed]",
      "text/plain": [
       "<Figure size 432x288 with 1 Axes>"
      ]
     },
     "metadata": {
      "needs_background": "light"
     },
     "output_type": "display_data"
    },
    {
     "data": {
      "text/plain": [
       "<Figure size 1152x648 with 0 Axes>"
      ]
     },
     "metadata": {},
     "output_type": "display_data"
    }
   ],
   "source": [
    "import matplotlib.pyplot as plt\n",
    "\n",
    "%matplotlib inline\n",
    "\n",
    "acc = history.history['accuracy']\n",
    "val_acc = history.history['val_accuracy']\n",
    "\n",
    "epochs = range(1, len(acc) + 1)\n",
    "\n",
    "plt.plot(epochs, acc, 'r', label='Training acc')\n",
    "plt.plot(epochs, val_acc, 'b', label='Validation acc')\n",
    "plt.title('Training and validation accuracy')\n",
    "plt.xlabel('Epochs')\n",
    "plt.ylabel('Accuracy')\n",
    "plt.legend(loc='lower right')\n",
    "plt.figure(figsize=(16,9))\n",
    "\n",
    "plt.show()"
   ]
  },
  {
   "cell_type": "code",
   "execution_count": 12,
   "metadata": {},
   "outputs": [
    {
     "name": "stdout",
     "output_type": "stream",
     "text": [
      "(10000, 16)\n"
     ]
    }
   ],
   "source": [
    "e = model.layers[0]\n",
    "weights = e.get_weights()[0]\n",
    "print(weights.shape)"
   ]
  },
  {
   "cell_type": "code",
   "execution_count": 14,
   "metadata": {},
   "outputs": [],
   "source": [
    "out_v = open('models/vecs.tsv', 'w')\n",
    "out_m = open('models/meta.tsv', 'w')\n",
    "for word_num in range(vocab_size):\n",
    "    word = reverse_word_index[word_num]\n",
    "    embeddings = weights[word_num]\n",
    "    out_m.write(word + \"\\n\")\n",
    "    out_v.write('\\t'.join([str(x) for x in embeddings]) + \"\\n\")\n",
    "out_v.close()\n",
    "out_m.close()"
   ]
  },
  {
   "cell_type": "markdown",
   "metadata": {},
   "source": [
    "放到 [Embedding Projector](http://projector.tensorflow.org/) 上进行可视化"
   ]
  },
  {
   "cell_type": "code",
   "execution_count": null,
   "metadata": {},
   "outputs": [],
   "source": []
  }
 ],
 "metadata": {
  "kernelspec": {
   "display_name": "Python 3",
   "language": "python",
   "name": "python3"
  },
  "language_info": {
   "codemirror_mode": {
    "name": "ipython",
    "version": 3
   },
   "file_extension": ".py",
   "mimetype": "text/x-python",
   "name": "python",
   "nbconvert_exporter": "python",
   "pygments_lexer": "ipython3",
   "version": "3.7.3"
  }
 },
 "nbformat": 4,
 "nbformat_minor": 2
}
