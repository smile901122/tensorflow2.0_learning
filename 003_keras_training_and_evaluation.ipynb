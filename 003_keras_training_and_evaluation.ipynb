{
 "cells": [
  {
   "cell_type": "markdown",
   "metadata": {},
   "source": [
    "# 使用keras训练模型"
   ]
  },
  {
   "cell_type": "code",
   "execution_count": 1,
   "metadata": {},
   "outputs": [],
   "source": [
    "from __future__ import absolute_import, division, print_function\n",
    "import tensorflow as tf\n",
    "tf.keras.backend.clear_session()\n",
    "import tensorflow.keras as keras\n",
    "import tensorflow.keras.layers as layers"
   ]
  },
  {
   "cell_type": "markdown",
   "metadata": {},
   "source": [
    "## 模型的构造、训练、测试流程"
   ]
  },
  {
   "cell_type": "code",
   "execution_count": 2,
   "metadata": {},
   "outputs": [
    {
     "name": "stdout",
     "output_type": "stream",
     "text": [
      "Train on 50000 samples, validate on 10000 samples\n",
      "Epoch 1/3\n",
      "50000/50000 [==============================] - 2s 31us/sample - loss: 0.3454 - sparse_categorical_accuracy: 0.9016 - val_loss: 0.1893 - val_sparse_categorical_accuracy: 0.9439\n",
      "Epoch 2/3\n",
      "50000/50000 [==============================] - 1s 26us/sample - loss: 0.1578 - sparse_categorical_accuracy: 0.9525 - val_loss: 0.1363 - val_sparse_categorical_accuracy: 0.9599\n",
      "Epoch 3/3\n",
      "50000/50000 [==============================] - 1s 27us/sample - loss: 0.1149 - sparse_categorical_accuracy: 0.9650 - val_loss: 0.1190 - val_sparse_categorical_accuracy: 0.9667\n",
      "history:\n",
      "{'loss': [0.3453949404430389, 0.15779645699739456, 0.11487457281351089], 'sparse_categorical_accuracy': [0.90156, 0.95248, 0.96502], 'val_loss': [0.18934509282112122, 0.13633859026432038, 0.11897836507558823], 'val_sparse_categorical_accuracy': [0.9439, 0.9599, 0.9667]}\n",
      "10000/10000 [==============================] - 0s 9us/sample - loss: 0.1238 - sparse_categorical_accuracy: 0.9631\n",
      "evaluate:\n",
      "[0.12375892907977104, 0.9631]\n",
      "predict:\n",
      "[[1.15025420e-08 4.49920545e-09 1.31406580e-07 2.59657572e-05\n",
      "  7.61143926e-12 8.34229823e-08 1.51087638e-12 9.99972463e-01\n",
      "  1.08366187e-08 1.28193426e-06]\n",
      " [3.99100060e-08 4.36308392e-06 9.99991894e-01 2.80225481e-06\n",
      "  1.12071675e-13 5.83570703e-08 8.02022271e-07 1.07545822e-13\n",
      "  8.14193246e-09 8.48809684e-13]]\n"
     ]
    }
   ],
   "source": [
    "# 模型构造\n",
    "inputs = keras.Input(shape=(784,), name='mnist_input')\n",
    "h1 = layers.Dense(64, activation='relu')(inputs)\n",
    "h1 = layers.Dense(64, activation='relu')(h1)\n",
    "outputs = layers.Dense(10, activation='softmax')(h1)\n",
    "model = keras.Model(inputs, outputs)\n",
    "# keras.utils.plot_model(model, './ch3/net001.png', show_shapes=True)\n",
    "\n",
    "model.compile(optimizer=keras.optimizers.RMSprop(),\n",
    "             loss=keras.losses.SparseCategoricalCrossentropy(),\n",
    "             metrics=[keras.metrics.SparseCategoricalAccuracy()])\n",
    "\n",
    "# 载入数据\n",
    "(x_train, y_train), (x_test, y_test) = keras.datasets.mnist.load_data()\n",
    "x_train = x_train.reshape(60000, 784).astype('float32') /255\n",
    "x_test = x_test.reshape(10000, 784).astype('float32') /255\n",
    "\n",
    "x_val = x_train[-10000:]\n",
    "y_val = y_train[-10000:]\n",
    "\n",
    "x_train = x_train[:-10000]\n",
    "y_train = y_train[:-10000]\n",
    "\n",
    "# 训练模型\n",
    "history = model.fit(x_train, y_train, batch_size=64, epochs=3,\n",
    "         validation_data=(x_val, y_val))\n",
    "print('history:')\n",
    "# history 打印训练过程的相关数据\n",
    "print(history.history)\n",
    "\n",
    "result = model.evaluate(x_test, y_test, batch_size=128)\n",
    "print('evaluate:')\n",
    "print(result)\n",
    "\n",
    "pred = model.predict(x_test[:2])\n",
    "print('predict:')\n",
    "print(pred)"
   ]
  },
  {
   "cell_type": "markdown",
   "metadata": {},
   "source": [
    "## 自定义损失和指标"
   ]
  },
  {
   "cell_type": "markdown",
   "metadata": {},
   "source": [
    "自定义指标只需继承 Metric 类， 并重写一下函数\n",
    "\n",
    "_init_(self)，初始化。\n",
    "\n",
    "update_state(self，y_true，y_pred，sample_weight = None)，它使用目标 y_true 和模型预测 y_pred 来更新状态变量。\n",
    "\n",
    "result(self)，它使用状态变量来计算最终结果。\n",
    "\n",
    "reset_states(self)，重新初始化度量的状态。"
   ]
  },
  {
   "cell_type": "code",
   "execution_count": 3,
   "metadata": {},
   "outputs": [
    {
     "name": "stdout",
     "output_type": "stream",
     "text": [
      "Epoch 1/3\n",
      "50000/50000 [==============================] - 1s 26us/sample - loss: 0.0918 - binary_true_postives: 7645.0000\n",
      "Epoch 2/3\n",
      "50000/50000 [==============================] - 1s 23us/sample - loss: 0.0763 - binary_true_postives: 7834.0000\n",
      "Epoch 3/3\n",
      "50000/50000 [==============================] - 1s 23us/sample - loss: 0.0641 - binary_true_postives: 8405.0000\n"
     ]
    },
    {
     "data": {
      "text/plain": [
       "<tensorflow.python.keras.callbacks.History at 0x13d65a828>"
      ]
     },
     "execution_count": 3,
     "metadata": {},
     "output_type": "execute_result"
    }
   ],
   "source": [
    "# 这是一个简单的示例，显示如何实现 CatgoricalTruePositives 指标，该指标计算正确分类为属于给定类的样本数量\n",
    "\n",
    "class CatgoricalTruePostives(keras.metrics.Metric):\n",
    "    def __init__(self, name='binary_true_postives', **kwargs):\n",
    "        super(CatgoricalTruePostives, self).__init__(name=name, **kwargs)\n",
    "        self.true_postives = self.add_weight(name='tp', initializer='zeros')\n",
    "\n",
    "    def update_state(self, y_true, y_pred, sample_weight=None):\n",
    "        y_pred = tf.argmax(y_pred)\n",
    "        y_true = tf.equal(tf.cast(y_pred, tf.int32), tf.cast(y_true, tf.int32))\n",
    "\n",
    "        y_true = tf.cast(y_true, tf.float32)\n",
    "\n",
    "        if sample_weight is not None:\n",
    "            sample_weight = tf.cast(sample_weight, tf.float32)\n",
    "            y_true = tf.multiply(sample_weight, y_true)\n",
    "\n",
    "        return self.true_postives.assign_add(tf.reduce_sum(y_true))\n",
    "\n",
    "    def result(self):\n",
    "        return tf.identity(self.true_postives)\n",
    "\n",
    "    def reset_states(self):\n",
    "        self.true_postives.assign(0.)\n",
    "\n",
    "\n",
    "model.compile(optimizer=keras.optimizers.RMSprop(1e-3),\n",
    "             loss=keras.losses.SparseCategoricalCrossentropy(),\n",
    "             metrics=[CatgoricalTruePostives()])\n",
    "\n",
    "model.fit(x_train, y_train,\n",
    "         batch_size=64, epochs=3)"
   ]
  },
  {
   "cell_type": "code",
   "execution_count": 4,
   "metadata": {},
   "outputs": [
    {
     "name": "stdout",
     "output_type": "stream",
     "text": [
      "50000/50000 [==============================] - 2s 46us/sample - loss: 2.3610 - sparse_categorical_accuracy: 0.1128\n"
     ]
    },
    {
     "data": {
      "text/plain": [
       "<tensorflow.python.keras.callbacks.History at 0x13dbddd30>"
      ]
     },
     "execution_count": 4,
     "metadata": {},
     "output_type": "execute_result"
    }
   ],
   "source": [
    "# 以定义网络层的方式添加网络 loss\n",
    "class ActivityRegularizationLayer(layers.Layer):\n",
    "    def call(self, inputs):\n",
    "        self.add_loss(tf.reduce_sum(inputs) * 0.1)\n",
    "        return inputs\n",
    "\n",
    "inputs = keras.Input(shape=(784,), name='mnist_input')\n",
    "h1 = layers.Dense(64, activation='relu')(inputs)\n",
    "h1 = ActivityRegularizationLayer()(h1)\n",
    "h1 = layers.Dense(64, activation='relu')(h1)\n",
    "outputs = layers.Dense(10, activation='softmax')(h1)\n",
    "model = keras.Model(inputs, outputs)\n",
    "# keras.utils.plot_model(model, 'net001.png', show_shapes=True)\n",
    "\n",
    "model.compile(optimizer=keras.optimizers.RMSprop(),\n",
    "             loss=keras.losses.SparseCategoricalCrossentropy(),\n",
    "             metrics=[keras.metrics.SparseCategoricalAccuracy()])\n",
    "\n",
    "model.fit(x_train, y_train, batch_size=32, epochs=1)"
   ]
  },
  {
   "cell_type": "code",
   "execution_count": 5,
   "metadata": {},
   "outputs": [
    {
     "name": "stdout",
     "output_type": "stream",
     "text": [
      "50000/50000 [==============================] - 2s 47us/sample - loss: 0.3045 - sparse_categorical_accuracy: 0.9114 - std_of_activation: 0.9775\n"
     ]
    },
    {
     "data": {
      "text/plain": [
       "<tensorflow.python.keras.callbacks.History at 0x13e269e48>"
      ]
     },
     "execution_count": 5,
     "metadata": {},
     "output_type": "execute_result"
    }
   ],
   "source": [
    "# 也可以以定义网络层的方式添加要统计的 metric\n",
    "class MetricLoggingLayer(layers.Layer):\n",
    "    def call(self, inputs):\n",
    "        self.add_metric(keras.backend.std(inputs),\n",
    "                       name='std_of_activation',\n",
    "                       aggregation='mean')\n",
    "\n",
    "        return inputs\n",
    "\n",
    "inputs = keras.Input(shape=(784,), name='mnist_input')\n",
    "h1 = layers.Dense(64, activation='relu')(inputs)\n",
    "h1 = MetricLoggingLayer()(h1)\n",
    "h1 = layers.Dense(64, activation='relu')(h1)\n",
    "outputs = layers.Dense(10, activation='softmax')(h1)\n",
    "model = keras.Model(inputs, outputs)\n",
    "# keras.utils.plot_model(model, 'net001.png', show_shapes=True)\n",
    "\n",
    "model.compile(optimizer=keras.optimizers.RMSprop(),\n",
    "             loss=keras.losses.SparseCategoricalCrossentropy(),\n",
    "             metrics=[keras.metrics.SparseCategoricalAccuracy()])\n",
    "\n",
    "model.fit(x_train, y_train, batch_size=32, epochs=1)"
   ]
  },
  {
   "cell_type": "code",
   "execution_count": 6,
   "metadata": {},
   "outputs": [
    {
     "name": "stdout",
     "output_type": "stream",
     "text": [
      "50000/50000 [==============================] - 2s 47us/sample - loss: 2.3542 - sparse_categorical_accuracy: 0.1131 - std_of_activation: 0.3083\n"
     ]
    },
    {
     "data": {
      "text/plain": [
       "<tensorflow.python.keras.callbacks.History at 0x13e7a2eb8>"
      ]
     },
     "execution_count": 6,
     "metadata": {},
     "output_type": "execute_result"
    }
   ],
   "source": [
    "# 也可以直接在 model 上面加\n",
    "# 也可以以定义网络层的方式添加要统计的 metric\n",
    "class MetricLoggingLayer(layers.Layer):\n",
    "    def call(self, inputs):\n",
    "        self.add_metric(keras.backend.std(inputs),\n",
    "                       name='std_of_activation',\n",
    "                       aggregation='mean')\n",
    "\n",
    "        return inputs\n",
    "\n",
    "inputs = keras.Input(shape=(784,), name='mnist_input')\n",
    "h1 = layers.Dense(64, activation='relu')(inputs)\n",
    "h2 = layers.Dense(64, activation='relu')(h1)\n",
    "outputs = layers.Dense(10, activation='softmax')(h2)\n",
    "model = keras.Model(inputs, outputs)\n",
    "\n",
    "model.add_metric(keras.backend.std(inputs),\n",
    "                       name='std_of_activation',\n",
    "                       aggregation='mean')\n",
    "\n",
    "model.add_loss(tf.reduce_sum(h1)*0.1)\n",
    "\n",
    "# keras.utils.plot_model(model, 'net001.png', show_shapes=True)\n",
    "\n",
    "model.compile(optimizer=keras.optimizers.RMSprop(),\n",
    "             loss=keras.losses.SparseCategoricalCrossentropy(),\n",
    "             metrics=[keras.metrics.SparseCategoricalAccuracy()])\n",
    "model.fit(x_train, y_train, batch_size=32, epochs=1)"
   ]
  },
  {
   "cell_type": "markdown",
   "metadata": {},
   "source": [
    "处理使用 validation_data 传入测试数据，还可以使用 validation_split 划分验证数据\n",
    "\n",
    "ps: validation_split 只能在用 numpy 数据训练的情况下使用"
   ]
  },
  {
   "cell_type": "code",
   "execution_count": 7,
   "metadata": {},
   "outputs": [
    {
     "name": "stdout",
     "output_type": "stream",
     "text": [
      "Train on 40000 samples, validate on 10000 samples\n",
      "40000/40000 [==============================] - 2s 55us/sample - loss: 2.3014 - sparse_categorical_accuracy: 0.1141 - std_of_activation: 0.3087 - val_loss: 2.3014 - val_sparse_categorical_accuracy: 0.1115 - val_std_of_activation: 0.3066\n"
     ]
    },
    {
     "data": {
      "text/plain": [
       "<tensorflow.python.keras.callbacks.History at 0x13d65ad68>"
      ]
     },
     "execution_count": 7,
     "metadata": {},
     "output_type": "execute_result"
    }
   ],
   "source": [
    "# 处理使用 validation_data 传入测试数据，还可以使用 validation_split 划分验证数据\n",
    "model.fit(x_train, y_train, batch_size=32, epochs=1, validation_split=0.2)"
   ]
  },
  {
   "cell_type": "markdown",
   "metadata": {},
   "source": [
    "## 使用tf.data构造数据"
   ]
  },
  {
   "cell_type": "code",
   "execution_count": 8,
   "metadata": {},
   "outputs": [
    {
     "name": "stdout",
     "output_type": "stream",
     "text": [
      "Epoch 1/3\n",
      "100/100 [==============================] - 1s 7ms/step - loss: 0.7608 - sparse_categorical_accuracy: 0.8061 - val_loss: 0.4052 - val_sparse_categorical_accuracy: 0.8646\n",
      "Epoch 2/3\n",
      "100/100 [==============================] - 0s 3ms/step - loss: 0.3755 - sparse_categorical_accuracy: 0.8908 - val_loss: 0.3210 - val_sparse_categorical_accuracy: 0.9010\n",
      "Epoch 3/3\n",
      "100/100 [==============================] - 0s 3ms/step - loss: 0.3179 - sparse_categorical_accuracy: 0.9028 - val_loss: 0.2337 - val_sparse_categorical_accuracy: 0.9167\n"
     ]
    },
    {
     "data": {
      "text/plain": [
       "<tensorflow.python.keras.callbacks.History at 0x13ed3ecf8>"
      ]
     },
     "execution_count": 8,
     "metadata": {},
     "output_type": "execute_result"
    }
   ],
   "source": [
    "def get_compiled_model():\n",
    "    inputs = keras.Input(shape=(784,), name='mnist_input')\n",
    "    h1 = layers.Dense(64, activation='relu')(inputs)\n",
    "    h2 = layers.Dense(64, activation='relu')(h1)\n",
    "    outputs = layers.Dense(10, activation='softmax')(h2)\n",
    "    \n",
    "    model = keras.Model(inputs, outputs)\n",
    "    \n",
    "    model.compile(optimizer=keras.optimizers.RMSprop(),\n",
    "                 loss=keras.losses.SparseCategoricalCrossentropy(),\n",
    "                 metrics=[keras.metrics.SparseCategoricalAccuracy()])\n",
    "    return model\n",
    "\n",
    "model = get_compiled_model()\n",
    "\n",
    "train_dataset = tf.data.Dataset.from_tensor_slices((x_train, y_train))\n",
    "train_dataset = train_dataset.shuffle(buffer_size=1024).batch(64)\n",
    "\n",
    "val_dataset = tf.data.Dataset.from_tensor_slices((x_val, y_val))\n",
    "val_dataset = val_dataset.batch(64)\n",
    "\n",
    "# model.fit(train_dataset, epochs=3)\n",
    "# steps_per_epoch 每个epoch只训练几步\n",
    "# validation_steps 每次验证，验证几步\n",
    "model.fit(train_dataset, epochs=3, steps_per_epoch=100,\n",
    "         validation_data=val_dataset, validation_steps=3)"
   ]
  },
  {
   "cell_type": "markdown",
   "metadata": {},
   "source": [
    "## 样本权重和类权重"
   ]
  },
  {
   "cell_type": "markdown",
   "metadata": {},
   "source": [
    "“样本权重”数组是一个数字数组，用于指定批处理中每个样本在计算总损失时应具有多少权重。 它通常用于不平衡的分类问题（这个想法是为了给予很少见的类更多的权重）。 当使用的权重是 1 和 0 时，该数组可以用作损失函数的掩码（完全丢弃某些样本对总损失的贡献）。\n",
    "\n",
    "“类权重” dict 是同一概念的更具体的实例：它将类索引映射到应该用于属于该类的样本的样本权重。 例如，如果类 “0” 比数据中的类 “1” 少两倍，则可以使用 class_weight = {0：1.，1：0.5}。"
   ]
  },
  {
   "cell_type": "code",
   "execution_count": 9,
   "metadata": {},
   "outputs": [
    {
     "name": "stdout",
     "output_type": "stream",
     "text": [
      "{0: 1.0, 1: 1.0, 2: 1.0, 3: 1.0, 4: 1.0, 5: 2.0, 6: 1.0, 7: 1.0, 8: 1.0, 9: 1.0}\n",
      "Epoch 1/4\n",
      "50000/50000 [==============================] - 1s 26us/sample - loss: 0.3686 - sparse_categorical_accuracy: 0.90330s - loss: 0.4617 - sparse_categorical_accura\n",
      "Epoch 2/4\n",
      "50000/50000 [==============================] - 1s 24us/sample - loss: 0.1700 - sparse_categorical_accuracy: 0.9523\n",
      "Epoch 3/4\n",
      "50000/50000 [==============================] - 1s 24us/sample - loss: 0.1242 - sparse_categorical_accuracy: 0.9655\n",
      "Epoch 4/4\n",
      "50000/50000 [==============================] - 1s 24us/sample - loss: 0.0987 - sparse_categorical_accuracy: 0.9720\n"
     ]
    },
    {
     "data": {
      "text/plain": [
       "<tensorflow.python.keras.callbacks.History at 0x121c9de48>"
      ]
     },
     "execution_count": 9,
     "metadata": {},
     "output_type": "execute_result"
    }
   ],
   "source": [
    "# 增加第5类的权重\n",
    "import numpy as np\n",
    "\n",
    "# 类权重\n",
    "model = get_compiled_model()\n",
    "\n",
    "class_weight = {i : 1.0 for i in range(10)}\n",
    "class_weight[5] = 2.0\n",
    "print(class_weight)\n",
    "\n",
    "model.fit(x_train, y_train,\n",
    "         class_weight=class_weight,\n",
    "         batch_size=64,\n",
    "         epochs=4)"
   ]
  },
  {
   "cell_type": "code",
   "execution_count": 10,
   "metadata": {},
   "outputs": [
    {
     "name": "stdout",
     "output_type": "stream",
     "text": [
      "Epoch 1/4\n",
      "50000/50000 [==============================] - 1s 25us/sample - loss: 0.3691 - sparse_categorical_accuracy: 0.9021\n",
      "Epoch 2/4\n",
      "50000/50000 [==============================] - 1s 24us/sample - loss: 0.1665 - sparse_categorical_accuracy: 0.9531\n",
      "Epoch 3/4\n",
      "50000/50000 [==============================] - 1s 24us/sample - loss: 0.1222 - sparse_categorical_accuracy: 0.9653\n",
      "Epoch 4/4\n",
      "50000/50000 [==============================] - 1s 24us/sample - loss: 0.0981 - sparse_categorical_accuracy: 0.9715\n"
     ]
    },
    {
     "data": {
      "text/plain": [
       "<tensorflow.python.keras.callbacks.History at 0x141755780>"
      ]
     },
     "execution_count": 10,
     "metadata": {},
     "output_type": "execute_result"
    }
   ],
   "source": [
    "# 样本权重\n",
    "model = get_compiled_model()\n",
    "\n",
    "sample_weight = np.ones(shape=(len(y_train),))\n",
    "sample_weight[y_train == 5] = 2.0\n",
    "\n",
    "model.fit(x_train, y_train,\n",
    "         sample_weight=sample_weight,\n",
    "         batch_size=64,\n",
    "         epochs=4)"
   ]
  },
  {
   "cell_type": "code",
   "execution_count": 11,
   "metadata": {},
   "outputs": [
    {
     "name": "stdout",
     "output_type": "stream",
     "text": [
      "Epoch 1/3\n",
      "782/782 [==============================] - 2s 3ms/step - loss: 0.3733 - sparse_categorical_accuracy: 0.9006\n",
      "Epoch 2/3\n",
      "782/782 [==============================] - 2s 2ms/step - loss: 0.1704 - sparse_categorical_accuracy: 0.9528\n",
      "Epoch 3/3\n",
      "782/782 [==============================] - 2s 2ms/step - loss: 0.1247 - sparse_categorical_accuracy: 0.9651\n"
     ]
    },
    {
     "data": {
      "text/plain": [
       "<tensorflow.python.keras.callbacks.History at 0x13ee550f0>"
      ]
     },
     "execution_count": 11,
     "metadata": {},
     "output_type": "execute_result"
    }
   ],
   "source": [
    "# tf.data数据\n",
    "model = get_compiled_model()\n",
    "\n",
    "sample_weight = np.ones(shape=(len(y_train),))\n",
    "sample_weight[y_train == 5] = 2.0\n",
    "\n",
    "train_dataset = tf.data.Dataset.from_tensor_slices((x_train, y_train,\n",
    "                                                    sample_weight))\n",
    "train_dataset = train_dataset.shuffle(buffer_size=1024).batch(64)\n",
    "\n",
    "val_dataset = tf.data.Dataset.from_tensor_slices((x_val, y_val))\n",
    "val_dataset = val_dataset.batch(64)\n",
    "\n",
    "model.fit(train_dataset, epochs=3, )"
   ]
  },
  {
   "cell_type": "markdown",
   "metadata": {},
   "source": [
    "## 多输入多输出模型"
   ]
  },
  {
   "cell_type": "code",
   "execution_count": 12,
   "metadata": {},
   "outputs": [
    {
     "data": {
      "image/png": "[encoded data removed]",
      "text/plain": [
       "<IPython.core.display.Image object>"
      ]
     },
     "execution_count": 12,
     "metadata": {},
     "output_type": "execute_result"
    }
   ],
   "source": [
    "image_input = keras.Input(shape=(32, 32, 3), name='img_input')\n",
    "timeseries_input = keras.Input(shape=(None, 10), name='ts_input')\n",
    "\n",
    "x1 = layers.Conv2D(3, 3)(image_input)\n",
    "x1 = layers.GlobalMaxPooling2D()(x1)\n",
    "\n",
    "x2 = layers.Conv1D(3, 3)(timeseries_input)\n",
    "x2 = layers.GlobalMaxPooling1D()(x2)\n",
    "\n",
    "x = layers.concatenate([x1, x2])\n",
    "\n",
    "score_output = layers.Dense(1, name='score_output')(x)\n",
    "class_output = layers.Dense(5, activation='softmax', name='class_output')(x)\n",
    "\n",
    "model = keras.Model(inputs=[image_input, timeseries_input],\n",
    "                    outputs=[score_output, class_output])\n",
    "keras.utils.plot_model(model, './ch3/multi_input_output_model.png'\n",
    "                       , show_shapes=True)"
   ]
  },
  {
   "cell_type": "code",
   "execution_count": 13,
   "metadata": {},
   "outputs": [
    {
     "name": "stderr",
     "output_type": "stream",
     "text": [
      "WARNING: Logging before flag parsing goes to stderr.\n",
      "W0829 11:01:47.104783 140735620006784 training_utils.py:1152] Output score_output missing from loss dictionary. We assume this was done on purpose. The fit and evaluate APIs will not be expecting any data to be passed to score_output.\n"
     ]
    }
   ],
   "source": [
    "# 可以为模型指定不同的 loss和 metrics\n",
    "model.compile(\n",
    "    optimizer=keras.optimizers.RMSprop(1e-3),\n",
    "    loss=[keras.losses.MeanSquaredError(),\n",
    "          keras.losses.CategoricalCrossentropy()])\n",
    "\n",
    "# 还可以指定 loss 的权重\n",
    "model.compile(\n",
    "    optimizer=keras.optimizers.RMSprop(1e-3),\n",
    "    loss={'score_output': keras.losses.MeanSquaredError(),\n",
    "          'class_output': keras.losses.CategoricalCrossentropy()},\n",
    "    metrics={'score_output': [keras.metrics.MeanAbsolutePercentageError(),\n",
    "                              keras.metrics.MeanAbsoluteError()],\n",
    "             'class_output': [keras.metrics.CategoricalAccuracy()]},\n",
    "    loss_weight={'score_output': 2., 'class_output': 1.})\n",
    "\n",
    "# 可以把不需要传播的 loss 置 0\n",
    "model.compile(\n",
    "    optimizer=keras.optimizers.RMSprop(1e-3),\n",
    "    loss=[None, keras.losses.CategoricalCrossentropy()])\n",
    "\n",
    "# Or dict loss version\n",
    "model.compile(\n",
    "    optimizer=keras.optimizers.RMSprop(1e-3),\n",
    "    loss={'class_output': keras.losses.CategoricalCrossentropy()})"
   ]
  },
  {
   "cell_type": "markdown",
   "metadata": {},
   "source": [
    "## 使用回调"
   ]
  },
  {
   "cell_type": "markdown",
   "metadata": {},
   "source": [
    "Keras中的回调是在训练期间（在epoch开始时，batch结束时，epoch结束时等）在不同点调用的对象，可用于实现以下行为：\n",
    "\n",
    "- 在训练期间的不同时间点进行验证（超出内置的每个时期验证）\n",
    "- 定期检查模型是否超过某个精度阈值\n",
    "- 在训练似乎平稳时改变模型的学习率\n",
    "- 在训练似乎平稳时对顶层进行微调\n",
    "- 在训练结束或超出某个性能阈值时发送电子邮件或即时消息通知等等。\n",
    "\n",
    "\n",
    "**可使用的内置回调有**\n",
    "\n",
    "- ModelCheckpoint：定期保存模型。\n",
    "- EarlyStopping：当训练不再改进验证指标时停止训练。\n",
    "- TensorBoard：定期编写可在 TensorBoard 中显示的模型日志（更多细节见“可视化”）。\n",
    "- CSVLogger：将损失和指标数据流式传输到 CSV 文件。\n",
    "- 等等"
   ]
  },
  {
   "cell_type": "markdown",
   "metadata": {},
   "source": [
    "### 回调的使用"
   ]
  },
  {
   "cell_type": "code",
   "execution_count": 14,
   "metadata": {},
   "outputs": [
    {
     "name": "stdout",
     "output_type": "stream",
     "text": [
      "Train on 40000 samples, validate on 10000 samples\n",
      "Epoch 1/20\n",
      "40000/40000 [==============================] - 1s 32us/sample - loss: 0.3610 - sparse_categorical_accuracy: 0.8973 - val_loss: 0.2446 - val_sparse_categorical_accuracy: 0.9255\n",
      "Epoch 2/20\n",
      "40000/40000 [==============================] - 1s 29us/sample - loss: 0.1688 - sparse_categorical_accuracy: 0.9502 - val_loss: 0.1805 - val_sparse_categorical_accuracy: 0.9458\n",
      "Epoch 3/20\n",
      "40000/40000 [==============================] - 1s 27us/sample - loss: 0.1221 - sparse_categorical_accuracy: 0.9638 - val_loss: 0.1528 - val_sparse_categorical_accuracy: 0.9550\n",
      "Epoch 4/20\n",
      "40000/40000 [==============================] - 1s 28us/sample - loss: 0.0968 - sparse_categorical_accuracy: 0.9706 - val_loss: 0.1422 - val_sparse_categorical_accuracy: 0.9599\n",
      "Epoch 5/20\n",
      "40000/40000 [==============================] - 1s 28us/sample - loss: 0.0798 - sparse_categorical_accuracy: 0.9761 - val_loss: 0.1364 - val_sparse_categorical_accuracy: 0.9597\n",
      "Epoch 6/20\n",
      "40000/40000 [==============================] - 1s 27us/sample - loss: 0.0666 - sparse_categorical_accuracy: 0.9798 - val_loss: 0.1412 - val_sparse_categorical_accuracy: 0.9625\n",
      "Epoch 00006: early stopping\n"
     ]
    },
    {
     "data": {
      "text/plain": [
       "<tensorflow.python.keras.callbacks.History at 0x142d61e48>"
      ]
     },
     "execution_count": 14,
     "metadata": {},
     "output_type": "execute_result"
    }
   ],
   "source": [
    "model = get_compiled_model()\n",
    "\n",
    "callbacks = [\n",
    "    keras.callbacks.EarlyStopping(\n",
    "        # Stop training when `val_loss` is no longer improving\n",
    "        monitor='val_loss',\n",
    "        # \"no longer improving\" being defined as \"no better than 1e-2 less\"\n",
    "        min_delta=1e-2,\n",
    "        # \"no longer improving\" being further defined as \"for at least 2 epochs\"\n",
    "        patience=2,\n",
    "        verbose=1)]\n",
    "\n",
    "model.fit(x_train, y_train,\n",
    "          epochs=20,\n",
    "          batch_size=64,\n",
    "          callbacks=callbacks,\n",
    "          validation_split=0.2)"
   ]
  },
  {
   "cell_type": "code",
   "execution_count": 15,
   "metadata": {},
   "outputs": [
    {
     "name": "stdout",
     "output_type": "stream",
     "text": [
      "Train on 40000 samples, validate on 10000 samples\n",
      "Epoch 1/3\n",
      "38464/40000 [===========================>..] - ETA: 0s - loss: 0.3856 - sparse_categorical_accuracy: 0.8912\n",
      "Epoch 00001: val_loss improved from inf to 0.22007, saving model to ./ch3/mymodel_1.h5\n",
      "40000/40000 [==============================] - 1s 33us/sample - loss: 0.3796 - sparse_categorical_accuracy: 0.8928 - val_loss: 0.2201 - val_sparse_categorical_accuracy: 0.9329\n",
      "Epoch 2/3\n",
      "39168/40000 [============================>.] - ETA: 0s - loss: 0.1750 - sparse_categorical_accuracy: 0.9489- ETA: 0s - loss: 0.1937 - sparse_categorical_ac\n",
      "Epoch 00002: val_loss improved from 0.22007 to 0.17010, saving model to ./ch3/mymodel_2.h5\n",
      "40000/40000 [==============================] - 1s 28us/sample - loss: 0.1743 - sparse_categorical_accuracy: 0.9490 - val_loss: 0.1701 - val_sparse_categorical_accuracy: 0.9478\n",
      "Epoch 3/3\n",
      "39296/40000 [============================>.] - ETA: 0s - loss: 0.1293 - sparse_categorical_accuracy: 0.9622- ETA: 0s - loss: 0.1362 - sparse_categorical_accu\n",
      "Epoch 00003: val_loss improved from 0.17010 to 0.15921, saving model to ./ch3/mymodel_3.h5\n",
      "40000/40000 [==============================] - 1s 28us/sample - loss: 0.1285 - sparse_categorical_accuracy: 0.9625 - val_loss: 0.1592 - val_sparse_categorical_accuracy: 0.9537\n"
     ]
    },
    {
     "data": {
      "text/plain": [
       "<tensorflow.python.keras.callbacks.History at 0x143437f98>"
      ]
     },
     "execution_count": 15,
     "metadata": {},
     "output_type": "execute_result"
    }
   ],
   "source": [
    "# checkpoint模型回调\n",
    "model = get_compiled_model()\n",
    "check_callback = keras.callbacks.ModelCheckpoint(\n",
    "    filepath='./ch3/mymodel_{epoch}.h5',\n",
    "    save_best_only=True,\n",
    "    monitor='val_loss',\n",
    "    verbose=1\n",
    ")\n",
    "\n",
    "model.fit(x_train, y_train,\n",
    "         epochs=3,\n",
    "         batch_size=64,\n",
    "         callbacks=[check_callback],\n",
    "         validation_split=0.2)"
   ]
  },
  {
   "cell_type": "markdown",
   "metadata": {},
   "source": [
    "**如果遇到报错： `ImportError: 'load_weights' requires h5py.` 则可以 `conda uninstall h5py`, 然后重装 `pip install h5py`**"
   ]
  },
  {
   "cell_type": "code",
   "execution_count": 16,
   "metadata": {},
   "outputs": [],
   "source": [
    "# 动态调整学习率\n",
    "initial_learning_rate = 0.1\n",
    "\n",
    "lr_schedule = keras.optimizers.schedules.ExponentialDecay(\n",
    "    initial_learning_rate,\n",
    "    decay_steps=10000,\n",
    "    decay_rate=0.96,\n",
    "    staircase=True\n",
    ")\n",
    "\n",
    "optimizer = keras.optimizers.RMSprop(learning_rate=lr_schedule)"
   ]
  },
  {
   "cell_type": "code",
   "execution_count": 17,
   "metadata": {},
   "outputs": [
    {
     "name": "stdout",
     "output_type": "stream",
     "text": [
      "Train on 40000 samples, validate on 10000 samples\n",
      "Epoch 1/5\n",
      "40000/40000 [==============================] - 1s 28us/sample - loss: 0.1037 - sparse_categorical_accuracy: 0.9688 - val_loss: 0.1504 - val_sparse_categorical_accuracy: 0.9547\n",
      "Epoch 2/5\n",
      "40000/40000 [==============================] - 1s 28us/sample - loss: 0.0858 - sparse_categorical_accuracy: 0.9742 - val_loss: 0.1455 - val_sparse_categorical_accuracy: 0.9561\n",
      "Epoch 3/5\n",
      "40000/40000 [==============================] - 1s 27us/sample - loss: 0.0721 - sparse_categorical_accuracy: 0.9775 - val_loss: 0.1381 - val_sparse_categorical_accuracy: 0.9608\n",
      "Epoch 4/5\n",
      "40000/40000 [==============================] - 1s 27us/sample - loss: 0.0625 - sparse_categorical_accuracy: 0.9811 - val_loss: 0.1364 - val_sparse_categorical_accuracy: 0.9630\n",
      "Epoch 5/5\n",
      "40000/40000 [==============================] - 1s 27us/sample - loss: 0.0528 - sparse_categorical_accuracy: 0.9843 - val_loss: 0.1547 - val_sparse_categorical_accuracy: 0.9575\n"
     ]
    },
    {
     "data": {
      "text/plain": [
       "<tensorflow.python.keras.callbacks.History at 0x14388cfd0>"
      ]
     },
     "execution_count": 17,
     "metadata": {},
     "output_type": "execute_result"
    }
   ],
   "source": [
    "# 使用tensorboard\n",
    "import os\n",
    "\n",
    "tensorboard_cbk = keras.callbacks.TensorBoard(log_dir=os.path.join(os.getcwd(), 'ch3'))\n",
    "\n",
    "model.fit(x_train, y_train,\n",
    "         epochs=5,\n",
    "         batch_size=64,\n",
    "         callbacks=[tensorboard_cbk],\n",
    "         validation_split=0.2)"
   ]
  },
  {
   "cell_type": "markdown",
   "metadata": {},
   "source": [
    "### 创建自己的回调方法"
   ]
  },
  {
   "cell_type": "code",
   "execution_count": 18,
   "metadata": {},
   "outputs": [
    {
     "name": "stdout",
     "output_type": "stream",
     "text": [
      "Train on 40000 samples, validate on 10000 samples\n",
      "Epoch 1/3\n",
      "37888/40000 [===========================>..] - ETA: 0s - loss: 0.3668 - sparse_categorical_accuracy: 0.8973\n",
      "loss: 0.357725568240881\n",
      "40000/40000 [==============================] - 1s 32us/sample - loss: 0.3577 - sparse_categorical_accuracy: 0.8996 - val_loss: 0.2208 - val_sparse_categorical_accuracy: 0.9355\n",
      "Epoch 2/3\n",
      "39744/40000 [============================>.] - ETA: 0s - loss: 0.1718 - sparse_categorical_accuracy: 0.9495\n",
      "loss: 0.1715343112438917\n",
      "40000/40000 [==============================] - 1s 28us/sample - loss: 0.1715 - sparse_categorical_accuracy: 0.9495 - val_loss: 0.1673 - val_sparse_categorical_accuracy: 0.9485\n",
      "Epoch 3/3\n",
      "39040/40000 [============================>.] - ETA: 0s - loss: 0.1257 - sparse_categorical_accuracy: 0.9628\n",
      "loss: 0.12591686638593674\n",
      "40000/40000 [==============================] - 1s 28us/sample - loss: 0.1259 - sparse_categorical_accuracy: 0.9627 - val_loss: 0.1543 - val_sparse_categorical_accuracy: 0.9520\n"
     ]
    },
    {
     "data": {
      "text/plain": [
       "<tensorflow.python.keras.callbacks.History at 0x143d61f28>"
      ]
     },
     "execution_count": 18,
     "metadata": {},
     "output_type": "execute_result"
    }
   ],
   "source": [
    "class LossHistory(keras.callbacks.Callback):\n",
    "    def on_train_begin(self, logs):\n",
    "        self.losses = []\n",
    "    \n",
    "    def on_epoch_end(self, batch, logs):\n",
    "        self.losses.append(logs.get('loss'))\n",
    "        print('\\nloss:', self.losses[-1])\n",
    "        \n",
    "model = get_compiled_model()\n",
    "\n",
    "callbacks = [LossHistory()]\n",
    "\n",
    "model.fit(x_train, y_train,\n",
    "          epochs=3,\n",
    "          batch_size=64,\n",
    "          callbacks=callbacks,\n",
    "          validation_split=0.2)"
   ]
  },
  {
   "cell_type": "markdown",
   "metadata": {},
   "source": [
    "## 自己构造训练和验证循环"
   ]
  },
  {
   "cell_type": "code",
   "execution_count": 19,
   "metadata": {},
   "outputs": [
    {
     "name": "stdout",
     "output_type": "stream",
     "text": [
      "epoch:  0\n",
      "Training loss (for one batch) at step 0: 2.334444999694824\n",
      "Seen so far: 64 samples\n",
      "Training loss (for one batch) at step 200: 2.2195186614990234\n",
      "Seen so far: 12864 samples\n",
      "Training loss (for one batch) at step 400: 2.1388564109802246\n",
      "Seen so far: 25664 samples\n",
      "Training loss (for one batch) at step 600: 2.1101131439208984\n",
      "Seen so far: 38464 samples\n",
      "epoch:  1\n",
      "Training loss (for one batch) at step 0: 2.018697500228882\n",
      "Seen so far: 64 samples\n",
      "Training loss (for one batch) at step 200: 1.9181092977523804\n",
      "Seen so far: 12864 samples\n",
      "Training loss (for one batch) at step 400: 1.7415821552276611\n",
      "Seen so far: 25664 samples\n",
      "Training loss (for one batch) at step 600: 1.7942681312561035\n",
      "Seen so far: 38464 samples\n",
      "epoch:  2\n",
      "Training loss (for one batch) at step 0: 1.6607942581176758\n",
      "Seen so far: 64 samples\n",
      "Training loss (for one batch) at step 200: 1.5221712589263916\n",
      "Seen so far: 12864 samples\n",
      "Training loss (for one batch) at step 400: 1.289088487625122\n",
      "Seen so far: 25664 samples\n",
      "Training loss (for one batch) at step 600: 1.434788465499878\n",
      "Seen so far: 38464 samples\n"
     ]
    }
   ],
   "source": [
    "# Get the model.\n",
    "inputs = keras.Input(shape=(784,), name='digits')\n",
    "x = layers.Dense(64, activation='relu', name='dense_1')(inputs)\n",
    "x = layers.Dense(64, activation='relu', name='dense_2')(x)\n",
    "outputs = layers.Dense(10, activation='softmax', name='predictions')(x)\n",
    "\n",
    "model = keras.Model(inputs=inputs, outputs=outputs)\n",
    "\n",
    "# Instantiate an optimizer.\n",
    "optimizer = keras.optimizers.SGD(learning_rate=1e-3)\n",
    "# Instantiate a loss function.\n",
    "loss_fn = keras.losses.SparseCategoricalCrossentropy()\n",
    "\n",
    "# Prepare the training dataset.\n",
    "batch_size = 64\n",
    "train_dataset = tf.data.Dataset.from_tensor_slices((x_train, y_train))\n",
    "train_dataset = train_dataset.shuffle(buffer_size=1024).batch(batch_size)\n",
    "\n",
    "# 自己构造循环\n",
    "for epoch in range(3):\n",
    "    print('epoch: ', epoch)\n",
    "    for step, (x_batch_train, y_batch_train) in enumerate(train_dataset):\n",
    "        # 开一个gradient tape, 计算梯度\n",
    "        with tf.GradientTape() as tape:\n",
    "            logits = model(x_batch_train)\n",
    "            \n",
    "            loss_value = loss_fn(y_batch_train, logits)\n",
    "            grads = tape.gradient(loss_value, model.trainable_variables)\n",
    "            optimizer.apply_gradients(zip(grads, model.trainable_variables))\n",
    "            \n",
    "        if step % 200 == 0:\n",
    "            print('Training loss (for one batch) at step %s: %s' % (step, float(loss_value)))\n",
    "            print('Seen so far: %s samples' % ((step + 1) * 64))"
   ]
  },
  {
   "cell_type": "code",
   "execution_count": 23,
   "metadata": {},
   "outputs": [
    {
     "name": "stdout",
     "output_type": "stream",
     "text": [
      "Start of epoch 0\n",
      "Training loss (for one batch) at step 0: tf.Tensor(2.3467674, shape=(), dtype=float32)\n",
      "Seen so far: 64 samples\n",
      "Training loss (for one batch) at step 200: tf.Tensor(2.263164, shape=(), dtype=float32)\n",
      "Seen so far: 12864 samples\n",
      "Training loss (for one batch) at step 400: tf.Tensor(2.177899, shape=(), dtype=float32)\n",
      "Seen so far: 25664 samples\n",
      "Training loss (for one batch) at step 600: tf.Tensor(2.1017227, shape=(), dtype=float32)\n",
      "Seen so far: 38464 samples\n",
      "Training acc over epoch: 0.2376600056886673\n",
      "Validation acc: 0.4058000147342682\n",
      "Start of epoch 1\n",
      "Training loss (for one batch) at step 0: tf.Tensor(2.0571954, shape=(), dtype=float32)\n",
      "Seen so far: 64 samples\n",
      "Training loss (for one batch) at step 200: tf.Tensor(1.8929907, shape=(), dtype=float32)\n",
      "Seen so far: 12864 samples\n",
      "Training loss (for one batch) at step 400: tf.Tensor(1.8322653, shape=(), dtype=float32)\n",
      "Seen so far: 25664 samples\n",
      "Training loss (for one batch) at step 600: tf.Tensor(1.7300646, shape=(), dtype=float32)\n",
      "Seen so far: 38464 samples\n",
      "Training acc over epoch: 0.5265799760818481\n",
      "Validation acc: 0.6320000290870667\n",
      "Start of epoch 2\n",
      "Training loss (for one batch) at step 0: tf.Tensor(1.6881964, shape=(), dtype=float32)\n",
      "Seen so far: 64 samples\n",
      "Training loss (for one batch) at step 200: tf.Tensor(1.4167836, shape=(), dtype=float32)\n",
      "Seen so far: 12864 samples\n",
      "Training loss (for one batch) at step 400: tf.Tensor(1.4442734, shape=(), dtype=float32)\n",
      "Seen so far: 25664 samples\n",
      "Training loss (for one batch) at step 600: tf.Tensor(1.3577981, shape=(), dtype=float32)\n",
      "Seen so far: 38464 samples\n",
      "Training acc over epoch: 0.667639970779419\n",
      "Validation acc: 0.7264000177383423\n"
     ]
    }
   ],
   "source": [
    "# 训练并验证\n",
    "# Get model\n",
    "inputs = keras.Input(shape=(784,), name='digits')\n",
    "x = layers.Dense(64, activation='relu', name='dense_1')(inputs)\n",
    "x = layers.Dense(64, activation='relu', name='dense_2')(x)\n",
    "outputs = layers.Dense(10, activation='softmax', name='predictions')(x)\n",
    "model = keras.Model(inputs=inputs, outputs=outputs)\n",
    "\n",
    "# Instantiate an optimizer to train the model.\n",
    "optimizer = keras.optimizers.SGD(learning_rate=1e-3)\n",
    "# Instantiate a loss function.\n",
    "loss_fn = keras.losses.SparseCategoricalCrossentropy()\n",
    "\n",
    "# Prepare the metrics.\n",
    "train_acc_metric = keras.metrics.SparseCategoricalAccuracy() \n",
    "val_acc_metric = keras.metrics.SparseCategoricalAccuracy()\n",
    "\n",
    "# Prepare the training dataset.\n",
    "batch_size = 64\n",
    "train_dataset = tf.data.Dataset.from_tensor_slices((x_train, y_train))\n",
    "train_dataset = train_dataset.shuffle(buffer_size=1024).batch(batch_size)\n",
    "\n",
    "# Prepare the validation dataset.\n",
    "val_dataset = tf.data.Dataset.from_tensor_slices((x_val, y_val))\n",
    "val_dataset = val_dataset.batch(64)\n",
    "\n",
    "\n",
    "# Iterate over epochs.\n",
    "for epoch in range(3):\n",
    "    print('Start of epoch %d' % (epoch,))\n",
    "\n",
    "    # Iterate over the batches of the dataset.\n",
    "    for step, (x_batch_train, y_batch_train) in enumerate(train_dataset):\n",
    "        with tf.GradientTape() as tape:\n",
    "            logits = model(x_batch_train)\n",
    "            loss_value = loss_fn(y_batch_train, logits)\n",
    "        grads = tape.gradient(loss_value, model.trainable_variables)\n",
    "        optimizer.apply_gradients(zip(grads, model.trainable_variables))\n",
    "\n",
    "        # Update training metric.\n",
    "        train_acc_metric(y_batch_train, logits)\n",
    "\n",
    "        # Log every 200 batches.\n",
    "        if step % 200 == 0:\n",
    "            print('Training loss (for one batch) at step %s: %s' % (step, loss_value))\n",
    "            print('Seen so far: %s samples' % ((step + 1) * 64))\n",
    "\n",
    "    # Display metrics at the end of each epoch.\n",
    "    train_acc = train_acc_metric.result()\n",
    "    print('Training acc over epoch: %s' % (float(train_acc),))\n",
    "    # Reset training metrics at the end of each epoch\n",
    "    train_acc_metric.reset_states()\n",
    "\n",
    "    # Run a validation loop at the end of each epoch.\n",
    "    for x_batch_val, y_batch_val in val_dataset:\n",
    "        val_logits = model(x_batch_val)\n",
    "        # Update val metrics\n",
    "        val_acc_metric(y_batch_val, val_logits)\n",
    "    val_acc = val_acc_metric.result()\n",
    "    val_acc_metric.reset_states()\n",
    "    print('Validation acc: %s' % (float(val_acc),))"
   ]
  },
  {
   "cell_type": "code",
   "execution_count": 24,
   "metadata": {},
   "outputs": [
    {
     "name": "stdout",
     "output_type": "stream",
     "text": [
      "[<tf.Tensor: id=1353997, shape=(), dtype=float32, numpy=6.448087>]\n",
      "[<tf.Tensor: id=1354058, shape=(), dtype=float32, numpy=6.5252285>]\n"
     ]
    }
   ],
   "source": [
    "# 添加自己构造的 loss, 每次只能看到最新一次训练增加的 loss\n",
    "class ActivityRegularizationLayer(layers.Layer):\n",
    "  \n",
    "  def call(self, inputs):\n",
    "    self.add_loss(1e-2 * tf.reduce_sum(inputs))\n",
    "    return inputs\n",
    "  \n",
    "inputs = keras.Input(shape=(784,), name='digits')\n",
    "x = layers.Dense(64, activation='relu', name='dense_1')(inputs)\n",
    "# Insert activity regularization as a layer\n",
    "x = ActivityRegularizationLayer()(x)\n",
    "x = layers.Dense(64, activation='relu', name='dense_2')(x)\n",
    "outputs = layers.Dense(10, activation='softmax', name='predictions')(x)\n",
    "\n",
    "model = keras.Model(inputs=inputs, outputs=outputs)\n",
    "\n",
    "logits = model(x_train[:64])\n",
    "print(model.losses)\n",
    "logits = model(x_train[:64])\n",
    "logits = model(x_train[64: 128])\n",
    "logits = model(x_train[128: 192])\n",
    "print(model.losses)"
   ]
  },
  {
   "cell_type": "code",
   "execution_count": 25,
   "metadata": {},
   "outputs": [
    {
     "name": "stdout",
     "output_type": "stream",
     "text": [
      "Start of epoch 0\n",
      "Training loss (for one batch) at step 0: 9.146984100341797\n",
      "Seen so far: 64 samples\n",
      "Training loss (for one batch) at step 200: 2.469130754470825\n",
      "Seen so far: 12864 samples\n",
      "Training loss (for one batch) at step 400: 2.3822920322418213\n",
      "Seen so far: 25664 samples\n",
      "Training loss (for one batch) at step 600: 2.3377926349639893\n",
      "Seen so far: 38464 samples\n",
      "Start of epoch 1\n",
      "Training loss (for one batch) at step 0: 2.3572325706481934\n",
      "Seen so far: 64 samples\n",
      "Training loss (for one batch) at step 200: 2.3209803104400635\n",
      "Seen so far: 12864 samples\n",
      "Training loss (for one batch) at step 400: 2.320786476135254\n",
      "Seen so far: 25664 samples\n",
      "Training loss (for one batch) at step 600: 2.3142898082733154\n",
      "Seen so far: 38464 samples\n",
      "Start of epoch 2\n",
      "Training loss (for one batch) at step 0: 2.3235599994659424\n",
      "Seen so far: 64 samples\n",
      "Training loss (for one batch) at step 200: 2.309755325317383\n",
      "Seen so far: 12864 samples\n",
      "Training loss (for one batch) at step 400: 2.3114914894104004\n",
      "Seen so far: 25664 samples\n",
      "Training loss (for one batch) at step 600: 2.3101515769958496\n",
      "Seen so far: 38464 samples\n"
     ]
    }
   ],
   "source": [
    "# 将loss添加进求导中\n",
    "optimizer = keras.optimizers.SGD(learning_rate=1e-3)\n",
    "\n",
    "for epoch in range(3):\n",
    "    print('Start of epoch %d' % (epoch,))\n",
    "\n",
    "    for step, (x_batch_train, y_batch_train) in enumerate(train_dataset):\n",
    "        with tf.GradientTape() as tape:\n",
    "            logits = model(x_batch_train)\n",
    "            loss_value = loss_fn(y_batch_train, logits)\n",
    "\n",
    "            # Add extra losses created during this forward pass:\n",
    "            loss_value += sum(model.losses)\n",
    "\n",
    "        grads = tape.gradient(loss_value, model.trainable_variables)\n",
    "        optimizer.apply_gradients(zip(grads, model.trainable_variables))\n",
    "\n",
    "        # Log every 200 batches.\n",
    "        if step % 200 == 0:\n",
    "            print('Training loss (for one batch) at step %s: %s' % (step, float(loss_value)))\n",
    "            print('Seen so far: %s samples' % ((step + 1) * 64))"
   ]
  },
  {
   "cell_type": "code",
   "execution_count": null,
   "metadata": {},
   "outputs": [],
   "source": []
  }
 ],
 "metadata": {
  "kernelspec": {
   "display_name": "Python 3",
   "language": "python",
   "name": "python3"
  },
  "language_info": {
   "codemirror_mode": {
    "name": "ipython",
    "version": 3
   },
   "file_extension": ".py",
   "mimetype": "text/x-python",
   "name": "python",
   "nbconvert_exporter": "python",
   "pygments_lexer": "ipython3",
   "version": "3.7.3"
  }
 },
 "nbformat": 4,
 "nbformat_minor": 2
}
