{
 "cells": [
  {
   "cell_type": "markdown",
   "metadata": {},
   "source": [
    "# 文本分类"
   ]
  },
  {
   "cell_type": "code",
   "execution_count": 1,
   "metadata": {},
   "outputs": [
    {
     "name": "stdout",
     "output_type": "stream",
     "text": [
      "2.0.0-alpha0\n"
     ]
    }
   ],
   "source": [
    "from __future__ import absolute_import, division, print_function\n",
    "import tensorflow as tf\n",
    "from tensorflow import keras\n",
    "\n",
    "import numpy as np\n",
    "\n",
    "print(tf.__version__)"
   ]
  },
  {
   "cell_type": "markdown",
   "metadata": {},
   "source": [
    "## IMDB数据集"
   ]
  },
  {
   "cell_type": "markdown",
   "metadata": {},
   "source": [
    "### 加载数据集"
   ]
  },
  {
   "cell_type": "code",
   "execution_count": 2,
   "metadata": {},
   "outputs": [],
   "source": [
    "import tensorflow as tf\n",
    "import tensorflow.keras as keras\n",
    "\n",
    "imdb = keras.datasets.imdb\n",
    "(train_x, train_y), (test_x, text_y) = keras.datasets.imdb.load_data(num_words=10000)"
   ]
  },
  {
   "cell_type": "code",
   "execution_count": 3,
   "metadata": {},
   "outputs": [
    {
     "name": "stdout",
     "output_type": "stream",
     "text": [
      "Training entries: 25000, labels: 25000\n",
      "train_x example:  [1, 14, 22, 16, 43, 530, 973, 1622, 1385, 65, 458, 4468, 66, 3941, 4, 173, 36, 256, 5, 25, 100, 43, 838, 112, 50, 670, 2, 9, 35, 480, 284, 5, 150, 4, 172, 112, 167, 2, 336, 385, 39, 4, 172, 4536, 1111, 17, 546, 38, 13, 447, 4, 192, 50, 16, 6, 147, 2025, 19, 14, 22, 4, 1920, 4613, 469, 4, 22, 71, 87, 12, 16, 43, 530, 38, 76, 15, 13, 1247, 4, 22, 17, 515, 17, 12, 16, 626, 18, 2, 5, 62, 386, 12, 8, 316, 8, 106, 5, 4, 2223, 5244, 16, 480, 66, 3785, 33, 4, 130, 12, 16, 38, 619, 5, 25, 124, 51, 36, 135, 48, 25, 1415, 33, 6, 22, 12, 215, 28, 77, 52, 5, 14, 407, 16, 82, 2, 8, 4, 107, 117, 5952, 15, 256, 4, 2, 7, 3766, 5, 723, 36, 71, 43, 530, 476, 26, 400, 317, 46, 7, 4, 2, 1029, 13, 104, 88, 4, 381, 15, 297, 98, 32, 2071, 56, 26, 141, 6, 194, 7486, 18, 4, 226, 22, 21, 134, 476, 26, 480, 5, 144, 30, 5535, 18, 51, 36, 28, 224, 92, 25, 104, 4, 226, 65, 16, 38, 1334, 88, 12, 16, 283, 5, 16, 4472, 113, 103, 32, 15, 16, 5345, 19, 178, 32]\n",
      "len:  218 189\n"
     ]
    }
   ],
   "source": [
    "print(\"Training entries: {}, labels: {}\".format(len(train_x), len(train_y)))\n",
    "\n",
    "print('train_x example: ', train_x[0])\n",
    "print('len: ', len(train_x[0]), len(train_x[1]))"
   ]
  },
  {
   "cell_type": "markdown",
   "metadata": {},
   "source": [
    "### 创建id和词的匹配字典"
   ]
  },
  {
   "cell_type": "code",
   "execution_count": 4,
   "metadata": {},
   "outputs": [
    {
     "name": "stdout",
     "output_type": "stream",
     "text": [
      "<START> this film was just brilliant casting location scenery story direction everyone's really suited the part they played and you could just imagine being there robert <UNK> is an amazing actor and now the same being director <UNK> father came from the same scottish island as myself so i loved the fact there was a real connection with this film the witty remarks throughout the film were great it was just brilliant so much that i bought the film as soon as it was released for <UNK> and would recommend it to everyone to watch and the fly fishing was amazing really cried at the end it was so sad and you know what they say if you cry at a film it must have been good and this definitely was also <UNK> to the two little boy's that played the <UNK> of norman and paul they were just brilliant children are often left out of the <UNK> list i think because the stars that play them all grown up are such a big profile for the whole film but these children are amazing and should be praised for what they have done don't you think the whole story was so lovely because it was true and was someone's life after all that was shared with us all\n"
     ]
    }
   ],
   "source": [
    "word_index = imdb.get_word_index()\n",
    "# word 2 id\n",
    "word2id = {k : (v+3) for k, v in word_index.items()}\n",
    "word2id['<PAD>'] = 0\n",
    "word2id['<START>'] = 1\n",
    "word2id['<UNK>'] = 2\n",
    "word2id['<UNUSED>'] = 3\n",
    "# id 2 word\n",
    "id2word = {v : k for k, v in word2id.items()}\n",
    "\n",
    "def get_words(sent_ids):\n",
    "    return ' '.join([id2word.get(i, '?') for i in sent_ids])\n",
    "\n",
    "sent = get_words(train_x[0])\n",
    "print(sent)"
   ]
  },
  {
   "cell_type": "code",
   "execution_count": 5,
   "metadata": {},
   "outputs": [
    {
     "data": {
      "text/plain": [
       "88588"
      ]
     },
     "execution_count": 5,
     "metadata": {},
     "output_type": "execute_result"
    }
   ],
   "source": [
    "len(word2id)"
   ]
  },
  {
   "cell_type": "markdown",
   "metadata": {},
   "source": [
    "## 准备数据"
   ]
  },
  {
   "cell_type": "code",
   "execution_count": 6,
   "metadata": {},
   "outputs": [
    {
     "name": "stdout",
     "output_type": "stream",
     "text": [
      "[   1   14   22   16   43  530  973 1622 1385   65  458 4468   66 3941\n",
      "    4  173   36  256    5   25  100   43  838  112   50  670    2    9\n",
      "   35  480  284    5  150    4  172  112  167    2  336  385   39    4\n",
      "  172 4536 1111   17  546   38   13  447    4  192   50   16    6  147\n",
      " 2025   19   14   22    4 1920 4613  469    4   22   71   87   12   16\n",
      "   43  530   38   76   15   13 1247    4   22   17  515   17   12   16\n",
      "  626   18    2    5   62  386   12    8  316    8  106    5    4 2223\n",
      " 5244   16  480   66 3785   33    4  130   12   16   38  619    5   25\n",
      "  124   51   36  135   48   25 1415   33    6   22   12  215   28   77\n",
      "   52    5   14  407   16   82    2    8    4  107  117 5952   15  256\n",
      "    4    2    7 3766    5  723   36   71   43  530  476   26  400  317\n",
      "   46    7    4    2 1029   13  104   88    4  381   15  297   98   32\n",
      " 2071   56   26  141    6  194 7486   18    4  226   22   21  134  476\n",
      "   26  480    5  144   30 5535   18   51   36   28  224   92   25  104\n",
      "    4  226   65   16   38 1334   88   12   16  283    5   16 4472  113\n",
      "  103   32   15   16 5345   19  178   32    0    0    0    0    0    0\n",
      "    0    0    0    0    0    0    0    0    0    0    0    0    0    0\n",
      "    0    0    0    0    0    0    0    0    0    0    0    0    0    0\n",
      "    0    0    0    0]\n",
      "len:  256 256\n"
     ]
    }
   ],
   "source": [
    "# 句子末尾padding\n",
    "train_x = keras.preprocessing.sequence.pad_sequences(\n",
    "    train_x, value=word2id['<PAD>'],\n",
    "    padding='post', maxlen=256\n",
    ")\n",
    "\n",
    "test_x = keras.preprocessing.sequence.pad_sequences(\n",
    "    test_x, value=word2id['<PAD>'],\n",
    "    padding='post', maxlen=256\n",
    ")\n",
    "\n",
    "print(train_x[0])\n",
    "print('len: ',len(train_x[0]), len(train_x[1]))"
   ]
  },
  {
   "cell_type": "markdown",
   "metadata": {},
   "source": [
    "## 构建模型"
   ]
  },
  {
   "cell_type": "code",
   "execution_count": 7,
   "metadata": {},
   "outputs": [
    {
     "name": "stdout",
     "output_type": "stream",
     "text": [
      "Model: \"sequential\"\n",
      "_________________________________________________________________\n",
      "Layer (type)                 Output Shape              Param #   \n",
      "=================================================================\n",
      "embedding (Embedding)        (None, None, 16)          160000    \n",
      "_________________________________________________________________\n",
      "global_average_pooling1d (Gl (None, 16)                0         \n",
      "_________________________________________________________________\n",
      "dense (Dense)                (None, 16)                272       \n",
      "_________________________________________________________________\n",
      "dense_1 (Dense)              (None, 1)                 17        \n",
      "=================================================================\n",
      "Total params: 160,289\n",
      "Trainable params: 160,289\n",
      "Non-trainable params: 0\n",
      "_________________________________________________________________\n"
     ]
    }
   ],
   "source": [
    "import tensorflow.keras.layers as layers\n",
    "\n",
    "vocab_size = 10000\n",
    "\n",
    "model = keras.Sequential()\n",
    "model.add(layers.Embedding(vocab_size, 16))\n",
    "model.add(layers.GlobalAveragePooling1D())\n",
    "model.add(layers.Dense(16, activation='relu'))\n",
    "model.add(layers.Dense(1, activation='sigmoid'))\n",
    "\n",
    "model.summary()\n",
    "\n",
    "model.compile(optimizer='adam',\n",
    "             loss='binary_crossentropy',\n",
    "             metrics=['accuracy'])"
   ]
  },
  {
   "cell_type": "markdown",
   "metadata": {},
   "source": [
    "## 模型训练与验证"
   ]
  },
  {
   "cell_type": "code",
   "execution_count": 8,
   "metadata": {},
   "outputs": [
    {
     "name": "stdout",
     "output_type": "stream",
     "text": [
      "Train on 15000 samples, validate on 10000 samples\n",
      "Epoch 1/40\n",
      "15000/15000 [==============================] - 1s 41us/sample - loss: 0.6920 - accuracy: 0.5637 - val_loss: 0.6901 - val_accuracy: 0.5975\n",
      "Epoch 2/40\n",
      "15000/15000 [==============================] - 0s 21us/sample - loss: 0.6866 - accuracy: 0.6909 - val_loss: 0.6830 - val_accuracy: 0.7119\n",
      "Epoch 3/40\n",
      "15000/15000 [==============================] - 0s 21us/sample - loss: 0.6747 - accuracy: 0.7455 - val_loss: 0.6672 - val_accuracy: 0.7553\n",
      "Epoch 4/40\n",
      "15000/15000 [==============================] - 0s 20us/sample - loss: 0.6531 - accuracy: 0.7617 - val_loss: 0.6425 - val_accuracy: 0.7556\n",
      "Epoch 5/40\n",
      "15000/15000 [==============================] - 0s 21us/sample - loss: 0.6208 - accuracy: 0.7909 - val_loss: 0.6084 - val_accuracy: 0.7830\n",
      "Epoch 6/40\n",
      "15000/15000 [==============================] - 0s 20us/sample - loss: 0.5791 - accuracy: 0.8094 - val_loss: 0.5678 - val_accuracy: 0.8012\n",
      "Epoch 7/40\n",
      "15000/15000 [==============================] - 0s 20us/sample - loss: 0.5317 - accuracy: 0.8259 - val_loss: 0.5229 - val_accuracy: 0.8179\n",
      "Epoch 8/40\n",
      "15000/15000 [==============================] - 0s 21us/sample - loss: 0.4835 - accuracy: 0.8433 - val_loss: 0.4810 - val_accuracy: 0.8314\n",
      "Epoch 9/40\n",
      "15000/15000 [==============================] - 0s 25us/sample - loss: 0.4385 - accuracy: 0.8590 - val_loss: 0.4432 - val_accuracy: 0.8430\n",
      "Epoch 10/40\n",
      "15000/15000 [==============================] - 0s 27us/sample - loss: 0.3988 - accuracy: 0.8724 - val_loss: 0.4120 - val_accuracy: 0.8503\n",
      "Epoch 11/40\n",
      "15000/15000 [==============================] - 0s 28us/sample - loss: 0.3653 - accuracy: 0.8805 - val_loss: 0.3864 - val_accuracy: 0.8576\n",
      "Epoch 12/40\n",
      "15000/15000 [==============================] - 0s 26us/sample - loss: 0.3372 - accuracy: 0.8889 - val_loss: 0.3667 - val_accuracy: 0.8621\n",
      "Epoch 13/40\n",
      "15000/15000 [==============================] - 0s 27us/sample - loss: 0.3143 - accuracy: 0.8952 - val_loss: 0.3495 - val_accuracy: 0.8683\n",
      "Epoch 14/40\n",
      "15000/15000 [==============================] - 0s 26us/sample - loss: 0.2939 - accuracy: 0.8999 - val_loss: 0.3369 - val_accuracy: 0.8720\n",
      "Epoch 15/40\n",
      "15000/15000 [==============================] - 0s 26us/sample - loss: 0.2768 - accuracy: 0.9053 - val_loss: 0.3267 - val_accuracy: 0.8732\n",
      "Epoch 16/40\n",
      "15000/15000 [==============================] - 0s 28us/sample - loss: 0.2615 - accuracy: 0.9095 - val_loss: 0.3180 - val_accuracy: 0.8748\n",
      "Epoch 17/40\n",
      "15000/15000 [==============================] - 0s 26us/sample - loss: 0.2475 - accuracy: 0.9145 - val_loss: 0.3109 - val_accuracy: 0.8774\n",
      "Epoch 18/40\n",
      "15000/15000 [==============================] - 0s 26us/sample - loss: 0.2350 - accuracy: 0.9189 - val_loss: 0.3049 - val_accuracy: 0.8803\n",
      "Epoch 19/40\n",
      "15000/15000 [==============================] - 0s 25us/sample - loss: 0.2238 - accuracy: 0.9225 - val_loss: 0.2997 - val_accuracy: 0.8816\n",
      "Epoch 20/40\n",
      "15000/15000 [==============================] - 0s 25us/sample - loss: 0.2137 - accuracy: 0.9252 - val_loss: 0.2961 - val_accuracy: 0.8812\n",
      "Epoch 21/40\n",
      "15000/15000 [==============================] - 0s 26us/sample - loss: 0.2034 - accuracy: 0.9310 - val_loss: 0.2930 - val_accuracy: 0.8825\n",
      "Epoch 22/40\n",
      "15000/15000 [==============================] - 0s 23us/sample - loss: 0.1948 - accuracy: 0.9339 - val_loss: 0.2905 - val_accuracy: 0.8836\n",
      "Epoch 23/40\n",
      "15000/15000 [==============================] - 0s 21us/sample - loss: 0.1861 - accuracy: 0.9380 - val_loss: 0.2893 - val_accuracy: 0.8828\n",
      "Epoch 24/40\n",
      "15000/15000 [==============================] - 0s 21us/sample - loss: 0.1786 - accuracy: 0.9417 - val_loss: 0.2875 - val_accuracy: 0.8848\n",
      "Epoch 25/40\n",
      "15000/15000 [==============================] - 0s 21us/sample - loss: 0.1708 - accuracy: 0.9456 - val_loss: 0.2861 - val_accuracy: 0.8841\n",
      "Epoch 26/40\n",
      "15000/15000 [==============================] - 0s 21us/sample - loss: 0.1640 - accuracy: 0.9472 - val_loss: 0.2865 - val_accuracy: 0.8831\n",
      "Epoch 27/40\n",
      "15000/15000 [==============================] - 0s 21us/sample - loss: 0.1575 - accuracy: 0.9498 - val_loss: 0.2859 - val_accuracy: 0.8836\n",
      "Epoch 28/40\n",
      "15000/15000 [==============================] - 0s 23us/sample - loss: 0.1512 - accuracy: 0.9534 - val_loss: 0.2862 - val_accuracy: 0.8851\n",
      "Epoch 29/40\n",
      "15000/15000 [==============================] - 0s 20us/sample - loss: 0.1458 - accuracy: 0.9561 - val_loss: 0.2878 - val_accuracy: 0.8834\n",
      "Epoch 30/40\n",
      "15000/15000 [==============================] - 0s 22us/sample - loss: 0.1400 - accuracy: 0.9573 - val_loss: 0.2871 - val_accuracy: 0.8863\n",
      "Epoch 31/40\n",
      "15000/15000 [==============================] - 0s 20us/sample - loss: 0.1343 - accuracy: 0.9601 - val_loss: 0.2881 - val_accuracy: 0.8862\n",
      "Epoch 32/40\n",
      "15000/15000 [==============================] - 0s 21us/sample - loss: 0.1290 - accuracy: 0.9627 - val_loss: 0.2894 - val_accuracy: 0.8855\n",
      "Epoch 33/40\n",
      "15000/15000 [==============================] - 0s 21us/sample - loss: 0.1240 - accuracy: 0.9647 - val_loss: 0.2916 - val_accuracy: 0.8855\n",
      "Epoch 34/40\n",
      "15000/15000 [==============================] - 0s 20us/sample - loss: 0.1195 - accuracy: 0.9661 - val_loss: 0.2935 - val_accuracy: 0.8854\n",
      "Epoch 35/40\n",
      "15000/15000 [==============================] - 0s 21us/sample - loss: 0.1153 - accuracy: 0.9669 - val_loss: 0.2961 - val_accuracy: 0.8854\n",
      "Epoch 36/40\n",
      "15000/15000 [==============================] - 0s 20us/sample - loss: 0.1108 - accuracy: 0.9695 - val_loss: 0.2977 - val_accuracy: 0.8849\n",
      "Epoch 37/40\n",
      "15000/15000 [==============================] - 0s 19us/sample - loss: 0.1065 - accuracy: 0.9701 - val_loss: 0.3002 - val_accuracy: 0.8846\n",
      "Epoch 38/40\n",
      "15000/15000 [==============================] - 0s 19us/sample - loss: 0.1025 - accuracy: 0.9719 - val_loss: 0.3036 - val_accuracy: 0.8832\n",
      "Epoch 39/40\n",
      "15000/15000 [==============================] - 0s 21us/sample - loss: 0.0993 - accuracy: 0.9731 - val_loss: 0.3071 - val_accuracy: 0.8823\n",
      "Epoch 40/40\n",
      "15000/15000 [==============================] - 0s 19us/sample - loss: 0.0952 - accuracy: 0.9752 - val_loss: 0.3096 - val_accuracy: 0.8838\n",
      "25000/25000 [==============================] - 1s 25us/sample - loss: 0.3305 - accuracy: 0.8716\n",
      "[0.3304843020629883, 0.87156]\n"
     ]
    }
   ],
   "source": [
    "x_val = train_x[:10000]\n",
    "x_train = train_x[10000:]\n",
    "\n",
    "y_val = train_y[:10000]\n",
    "y_train = train_y[10000:]\n",
    "\n",
    "history = model.fit(x_train,y_train,\n",
    "                   epochs=40, batch_size=512,\n",
    "                   validation_data=(x_val, y_val),\n",
    "                   verbose=1)\n",
    "\n",
    "result = model.evaluate(test_x, text_y)\n",
    "print(result)"
   ]
  },
  {
   "cell_type": "markdown",
   "metadata": {},
   "source": [
    "## 查看准确率时序图"
   ]
  },
  {
   "cell_type": "code",
   "execution_count": 12,
   "metadata": {},
   "outputs": [
    {
     "name": "stdout",
     "output_type": "stream",
     "text": [
      "dict_keys(['loss', 'accuracy', 'val_loss', 'val_accuracy'])\n"
     ]
    }
   ],
   "source": [
    "import matplotlib.pyplot as plt\n",
    "\n",
    "history_dict = history.history\n",
    "print(history_dict.keys())"
   ]
  },
  {
   "cell_type": "code",
   "execution_count": 15,
   "metadata": {},
   "outputs": [],
   "source": [
    "acc = history_dict['accuracy']\n",
    "val_acc = history_dict['val_accuracy']\n",
    "loss = history_dict['loss']\n",
    "val_loss = history_dict['val_loss']\n",
    "\n",
    "epochs = range(1, len(acc)+1)"
   ]
  },
  {
   "cell_type": "code",
   "execution_count": 13,
   "metadata": {},
   "outputs": [
    {
     "data": {
      "image/png": "[encoded data removed]",
      "text/plain": [
       "<Figure size 432x288 with 1 Axes>"
      ]
     },
     "metadata": {
      "needs_background": "light"
     },
     "output_type": "display_data"
    }
   ],
   "source": [
    "plt.plot(epochs, loss, 'bo', label='train loss')\n",
    "plt.plot(epochs, val_loss, 'b', label='val loss')\n",
    "plt.title('Train and val loss')\n",
    "plt.xlabel('Epochs')\n",
    "plt.xlabel('loss')\n",
    "plt.legend()\n",
    "\n",
    "plt.show()"
   ]
  },
  {
   "cell_type": "code",
   "execution_count": 14,
   "metadata": {},
   "outputs": [
    {
     "data": {
      "image/png": "[encoded data removed]",
      "text/plain": [
       "<Figure size 432x288 with 1 Axes>"
      ]
     },
     "metadata": {
      "needs_background": "light"
     },
     "output_type": "display_data"
    }
   ],
   "source": [
    "plt.clf()   # clear figure\n",
    "\n",
    "plt.plot(epochs, acc, 'bo', label='Training acc')\n",
    "plt.plot(epochs, val_acc, 'b', label='Validation acc')\n",
    "plt.title('Training and validation accuracy')\n",
    "plt.xlabel('Epochs')\n",
    "plt.ylabel('Accuracy')\n",
    "plt.legend()\n",
    "\n",
    "plt.show()"
   ]
  },
  {
   "cell_type": "code",
   "execution_count": null,
   "metadata": {},
   "outputs": [],
   "source": []
  }
 ],
 "metadata": {
  "kernelspec": {
   "display_name": "Python 3",
   "language": "python",
   "name": "python3"
  },
  "language_info": {
   "codemirror_mode": {
    "name": "ipython",
    "version": 3
   },
   "file_extension": ".py",
   "mimetype": "text/x-python",
   "name": "python",
   "nbconvert_exporter": "python",
   "pygments_lexer": "ipython3",
   "version": "3.7.3"
  }
 },
 "nbformat": 4,
 "nbformat_minor": 2
}
