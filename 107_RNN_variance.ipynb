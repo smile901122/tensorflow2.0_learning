{
 "cells": [
  {
   "cell_type": "markdown",
   "metadata": {},
   "source": [
    "# RNN 变体"
   ]
  },
  {
   "cell_type": "code",
   "execution_count": 1,
   "metadata": {},
   "outputs": [],
   "source": [
    "from tensorflow import keras\n",
    "from tensorflow.keras import layers"
   ]
  },
  {
   "cell_type": "markdown",
   "metadata": {},
   "source": [
    "## 导入数据"
   ]
  },
  {
   "cell_type": "code",
   "execution_count": 2,
   "metadata": {},
   "outputs": [],
   "source": [
    "num_words = 10000\n",
    "maxlen = 100"
   ]
  },
  {
   "cell_type": "code",
   "execution_count": 3,
   "metadata": {},
   "outputs": [
    {
     "name": "stdout",
     "output_type": "stream",
     "text": [
      "(25000,)   (25000,)\n",
      "(25000,)   (25000,)\n"
     ]
    }
   ],
   "source": [
    "(x_train, y_train), (x_test, y_test) = keras.datasets.imdb.load_data(num_words=num_words)\n",
    "print(x_train.shape, ' ', y_train.shape)\n",
    "print(x_test.shape, ' ', y_test.shape)"
   ]
  },
  {
   "cell_type": "code",
   "execution_count": 4,
   "metadata": {},
   "outputs": [],
   "source": [
    "x_train = keras.preprocessing.sequence.pad_sequences(x_train, maxlen, padding='post')\n",
    "x_test = keras.preprocessing.sequence.pad_sequences(x_test, maxlen, padding='post')"
   ]
  },
  {
   "cell_type": "code",
   "execution_count": 5,
   "metadata": {},
   "outputs": [
    {
     "name": "stdout",
     "output_type": "stream",
     "text": [
      "(25000, 100)   (25000,)\n",
      "(25000, 100)   (25000,)\n"
     ]
    }
   ],
   "source": [
    "print(x_train.shape, ' ', y_train.shape)\n",
    "print(x_test.shape, ' ', y_test.shape)"
   ]
  },
  {
   "cell_type": "markdown",
   "metadata": {},
   "source": [
    "## LSTM"
   ]
  },
  {
   "cell_type": "code",
   "execution_count": 6,
   "metadata": {},
   "outputs": [
    {
     "name": "stdout",
     "output_type": "stream",
     "text": [
      "Model: \"sequential\"\n",
      "_________________________________________________________________\n",
      "Layer (type)                 Output Shape              Param #   \n",
      "=================================================================\n",
      "embedding (Embedding)        (None, 100, 32)           320000    \n",
      "_________________________________________________________________\n",
      "cu_dnnlstm (CuDNNLSTM)       (None, 100, 32)           8448      \n",
      "_________________________________________________________________\n",
      "cu_dnnlstm_1 (CuDNNLSTM)     (None, 1)                 140       \n",
      "=================================================================\n",
      "Total params: 328,588\n",
      "Trainable params: 328,588\n",
      "Non-trainable params: 0\n",
      "_________________________________________________________________\n"
     ]
    }
   ],
   "source": [
    "import tensorflow as tf\n",
    "\n",
    "def lstm_model():\n",
    "    model = keras.Sequential([\n",
    "        layers.Embedding(input_dim=num_words, output_dim=32, input_length=maxlen),\n",
    "#         layers.LSTM(32, return_sequences=True),\n",
    "        tf.compat.v1.keras.layers.CuDNNLSTM(32, return_sequences=True),\n",
    "#         layers.LSTM(1, activation='sigmoid', return_sequences=False)\n",
    "        tf.compat.v1.keras.layers.CuDNNLSTM(1, return_sequences=False)\n",
    "    ])\n",
    "    model.compile(optimizer=keras.optimizers.Adam(),\n",
    "                 loss=keras.losses.BinaryCrossentropy(),\n",
    "                 metrics=['accuracy'])\n",
    "    return model\n",
    "\n",
    "model = lstm_model()\n",
    "model.summary()"
   ]
  },
  {
   "cell_type": "code",
   "execution_count": 7,
   "metadata": {},
   "outputs": [
    {
     "name": "stderr",
     "output_type": "stream",
     "text": [
      "WARNING: Logging before flag parsing goes to stderr.\n",
      "W0909 23:54:44.544606  8972 deprecation.py:323] From C:\\Users\\44310\\AppData\\Roaming\\Python\\Python37\\site-packages\\tensorflow\\python\\ops\\math_grad.py:1250: add_dispatch_support.<locals>.wrapper (from tensorflow.python.ops.array_ops) is deprecated and will be removed in a future version.\n",
      "Instructions for updating:\n",
      "Use tf.where in 2.0, which has the same broadcast rule as np.where\n"
     ]
    },
    {
     "name": "stdout",
     "output_type": "stream",
     "text": [
      "Train on 22500 samples, validate on 2500 samples\n",
      "Epoch 1/10\n",
      "22500/22500 [==============================] - 6s 266us/sample - loss: 0.5874 - accuracy: 0.7187 - val_loss: 0.4078 - val_accuracy: 0.8188\n",
      "Epoch 2/10\n",
      "22500/22500 [==============================] - 4s 181us/sample - loss: 0.3160 - accuracy: 0.8715 - val_loss: 0.3724 - val_accuracy: 0.8408\n",
      "Epoch 3/10\n",
      "22500/22500 [==============================] - 4s 181us/sample - loss: 0.2387 - accuracy: 0.9098 - val_loss: 0.3828 - val_accuracy: 0.8356\n",
      "Epoch 4/10\n",
      "22500/22500 [==============================] - 4s 181us/sample - loss: 0.2177 - accuracy: 0.9260 - val_loss: 0.4193 - val_accuracy: 0.8324\n",
      "Epoch 5/10\n",
      "22500/22500 [==============================] - 4s 181us/sample - loss: 0.1636 - accuracy: 0.9439 - val_loss: 0.4635 - val_accuracy: 0.8236\n",
      "Epoch 6/10\n",
      "22500/22500 [==============================] - 4s 181us/sample - loss: 0.1267 - accuracy: 0.9586 - val_loss: 0.5098 - val_accuracy: 0.8276\n",
      "Epoch 7/10\n",
      "22500/22500 [==============================] - 4s 181us/sample - loss: 0.1025 - accuracy: 0.9674 - val_loss: 0.5164 - val_accuracy: 0.8220\n",
      "Epoch 8/10\n",
      "22500/22500 [==============================] - 4s 180us/sample - loss: 0.0822 - accuracy: 0.9746 - val_loss: 0.5401 - val_accuracy: 0.8220\n",
      "Epoch 9/10\n",
      "22500/22500 [==============================] - 4s 180us/sample - loss: 0.0751 - accuracy: 0.9752 - val_loss: 0.6178 - val_accuracy: 0.8232\n",
      "Epoch 10/10\n",
      "22500/22500 [==============================] - 4s 181us/sample - loss: 0.0613 - accuracy: 0.9814 - val_loss: 0.6148 - val_accuracy: 0.8248\n",
      "Wall time: 43.3 s\n"
     ]
    }
   ],
   "source": [
    "%%time\n",
    "history = model.fit(x_train, y_train, batch_size=64, epochs=10, validation_split=0.1)"
   ]
  },
  {
   "cell_type": "code",
   "execution_count": 8,
   "metadata": {},
   "outputs": [
    {
     "data": {
      "image/png": "[encoded data removed]",
      "text/plain": [
       "<Figure size 432x288 with 1 Axes>"
      ]
     },
     "metadata": {
      "needs_background": "light"
     },
     "output_type": "display_data"
    }
   ],
   "source": [
    "import matplotlib.pyplot as plt\n",
    "\n",
    "%matplotlib inline\n",
    "plt.plot(history.history['accuracy'])\n",
    "plt.plot(history.history['val_accuracy'])\n",
    "plt.legend(['training', 'valivation'], loc='upper left')\n",
    "plt.show()"
   ]
  },
  {
   "cell_type": "markdown",
   "metadata": {},
   "source": [
    "## GRU"
   ]
  },
  {
   "cell_type": "code",
   "execution_count": 9,
   "metadata": {},
   "outputs": [
    {
     "name": "stdout",
     "output_type": "stream",
     "text": [
      "Model: \"sequential_1\"\n",
      "_________________________________________________________________\n",
      "Layer (type)                 Output Shape              Param #   \n",
      "=================================================================\n",
      "embedding_1 (Embedding)      (None, 100, 32)           320000    \n",
      "_________________________________________________________________\n",
      "cu_dnngru (CuDNNGRU)         (None, 100, 32)           6336      \n",
      "_________________________________________________________________\n",
      "cu_dnngru_1 (CuDNNGRU)       (None, 1)                 105       \n",
      "=================================================================\n",
      "Total params: 326,441\n",
      "Trainable params: 326,441\n",
      "Non-trainable params: 0\n",
      "_________________________________________________________________\n"
     ]
    }
   ],
   "source": [
    "def lstm_model():\n",
    "    model = keras.Sequential([\n",
    "        layers.Embedding(input_dim=num_words, output_dim=32, input_length=maxlen),\n",
    "#         layers.GRU(32, return_sequences=True),\n",
    "#         layers.GRU(1, activation='sigmoid', return_sequences=False)\n",
    "        tf.compat.v1.keras.layers.CuDNNGRU(32, return_sequences=True),\n",
    "        tf.compat.v1.keras.layers.CuDNNGRU(1, return_sequences=False)\n",
    "    ])\n",
    "    model.compile(optimizer=keras.optimizers.Adam(),\n",
    "                 loss=keras.losses.BinaryCrossentropy(),\n",
    "                 metrics=['accuracy'])\n",
    "    return model\n",
    "\n",
    "model = lstm_model()\n",
    "model.summary()"
   ]
  },
  {
   "cell_type": "code",
   "execution_count": 10,
   "metadata": {},
   "outputs": [
    {
     "name": "stdout",
     "output_type": "stream",
     "text": [
      "Train on 22500 samples, validate on 2500 samples\n",
      "Epoch 1/10\n",
      "22500/22500 [==============================] - 5s 209us/sample - loss: 0.6489 - accuracy: 0.6740 - val_loss: 0.4495 - val_accuracy: 0.8160\n",
      "Epoch 2/10\n",
      "22500/22500 [==============================] - 4s 185us/sample - loss: 0.3769 - accuracy: 0.8620 - val_loss: 0.4170 - val_accuracy: 0.8376\n",
      "Epoch 3/10\n",
      "22500/22500 [==============================] - 4s 185us/sample - loss: 0.3022 - accuracy: 0.8914 - val_loss: 0.4855 - val_accuracy: 0.8476\n",
      "Epoch 4/10\n",
      "22500/22500 [==============================] - 4s 185us/sample - loss: 0.2438 - accuracy: 0.9219 - val_loss: 0.6387 - val_accuracy: 0.8432\n",
      "Epoch 5/10\n",
      "22500/22500 [==============================] - 4s 185us/sample - loss: 0.3329 - accuracy: 0.8637 - val_loss: 0.5290 - val_accuracy: 0.7692\n",
      "Epoch 6/10\n",
      "22500/22500 [==============================] - 4s 184us/sample - loss: 0.3516 - accuracy: 0.8719 - val_loss: 0.5081 - val_accuracy: 0.8004\n",
      "Epoch 7/10\n",
      "22500/22500 [==============================] - 4s 185us/sample - loss: 0.2371 - accuracy: 0.9244 - val_loss: 0.7834 - val_accuracy: 0.8164\n",
      "Epoch 8/10\n",
      "22500/22500 [==============================] - 4s 185us/sample - loss: 0.1984 - accuracy: 0.9408 - val_loss: 0.6880 - val_accuracy: 0.8180\n",
      "Epoch 9/10\n",
      "22500/22500 [==============================] - 4s 185us/sample - loss: 0.2571 - accuracy: 0.9276 - val_loss: 0.6741 - val_accuracy: 0.8100\n",
      "Epoch 10/10\n",
      "22500/22500 [==============================] - 4s 184us/sample - loss: 0.1818 - accuracy: 0.9492 - val_loss: 1.0583 - val_accuracy: 0.8116\n",
      "Wall time: 42.7 s\n"
     ]
    }
   ],
   "source": [
    "%%time\n",
    "history = model.fit(x_train, y_train, batch_size=64, epochs=10, validation_split=0.1)"
   ]
  },
  {
   "cell_type": "code",
   "execution_count": 11,
   "metadata": {},
   "outputs": [
    {
     "data": {
      "image/png": "[encoded data removed]",
      "text/plain": [
       "<Figure size 432x288 with 1 Axes>"
      ]
     },
     "metadata": {
      "needs_background": "light"
     },
     "output_type": "display_data"
    }
   ],
   "source": [
    "import matplotlib.pyplot as plt\n",
    "\n",
    "%matplotlib inline\n",
    "plt.plot(history.history['accuracy'])\n",
    "plt.plot(history.history['val_accuracy'])\n",
    "plt.legend(['training', 'valivation'], loc='upper left')\n",
    "plt.show()"
   ]
  },
  {
   "cell_type": "code",
   "execution_count": null,
   "metadata": {},
   "outputs": [],
   "source": []
  }
 ],
 "metadata": {
  "kernelspec": {
   "display_name": "Python 3",
   "language": "python",
   "name": "python3"
  },
  "language_info": {
   "codemirror_mode": {
    "name": "ipython",
    "version": 3
   },
   "file_extension": ".py",
   "mimetype": "text/x-python",
   "name": "python",
   "nbconvert_exporter": "python",
   "pygments_lexer": "ipython3",
   "version": "3.7.4"
  }
 },
 "nbformat": 4,
 "nbformat_minor": 2
}
