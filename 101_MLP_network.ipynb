{
 "cells": [
  {
   "cell_type": "markdown",
   "metadata": {},
   "source": [
    "# 基础MLP网络"
   ]
  },
  {
   "cell_type": "code",
   "execution_count": 1,
   "metadata": {},
   "outputs": [
    {
     "name": "stdout",
     "output_type": "stream",
     "text": [
      "2.0.0-beta0\n"
     ]
    }
   ],
   "source": [
    "import tensorflow as tf\n",
    "import tensorflow.keras as keras\n",
    "import tensorflow.keras.layers as layers\n",
    "print(tf.__version__)"
   ]
  },
  {
   "cell_type": "markdown",
   "metadata": {},
   "source": [
    "## 回归任务"
   ]
  },
  {
   "cell_type": "code",
   "execution_count": 2,
   "metadata": {},
   "outputs": [
    {
     "name": "stdout",
     "output_type": "stream",
     "text": [
      "(404, 13)   (404,)\n",
      "(102, 13)   (102,)\n"
     ]
    }
   ],
   "source": [
    "# 导入数据\n",
    "(x_train, y_train), (x_test, y_test) = keras.datasets.boston_housing.load_data()\n",
    "print(x_train.shape, ' ', y_train.shape)\n",
    "print(x_test.shape, ' ', y_test.shape)"
   ]
  },
  {
   "cell_type": "code",
   "execution_count": 3,
   "metadata": {},
   "outputs": [
    {
     "name": "stdout",
     "output_type": "stream",
     "text": [
      "Model: \"sequential\"\n",
      "_________________________________________________________________\n",
      "Layer (type)                 Output Shape              Param #   \n",
      "=================================================================\n",
      "dense (Dense)                (None, 32)                448       \n",
      "_________________________________________________________________\n",
      "dense_1 (Dense)              (None, 32)                1056      \n",
      "_________________________________________________________________\n",
      "dense_2 (Dense)              (None, 32)                1056      \n",
      "_________________________________________________________________\n",
      "dense_3 (Dense)              (None, 1)                 33        \n",
      "=================================================================\n",
      "Total params: 2,593\n",
      "Trainable params: 2,593\n",
      "Non-trainable params: 0\n",
      "_________________________________________________________________\n"
     ]
    }
   ],
   "source": [
    "# 构建模型\n",
    "model = keras.Sequential([\n",
    "    layers.Dense(32, activation='sigmoid', input_shape=(13,)),\n",
    "    layers.Dense(32, activation='sigmoid'),\n",
    "    layers.Dense(32, activation='sigmoid'),\n",
    "    layers.Dense(1)\n",
    "])\n",
    "\n",
    "model.compile(optimizer=keras.optimizers.SGD(0.1),\n",
    "             loss='mean_squared_error',  # keras.losses.mean_squared_error\n",
    "             metrics=['mse'])\n",
    "model.summary()"
   ]
  },
  {
   "cell_type": "code",
   "execution_count": 4,
   "metadata": {},
   "outputs": [
    {
     "name": "stdout",
     "output_type": "stream",
     "text": [
      "Train on 363 samples, validate on 41 samples\n",
      "Epoch 1/50\n",
      "363/363 [==============================] - 0s 1ms/sample - loss: 322.0244 - mse: 322.0244 - val_loss: 75.6072 - val_mse: 75.6072\n",
      "Epoch 2/50\n",
      "363/363 [==============================] - 0s 36us/sample - loss: 93.2461 - mse: 93.2461 - val_loss: 42.7209 - val_mse: 42.7209\n",
      "Epoch 3/50\n",
      "363/363 [==============================] - 0s 33us/sample - loss: 92.1878 - mse: 92.1878 - val_loss: 62.4189 - val_mse: 62.4189\n",
      "Epoch 4/50\n",
      "363/363 [==============================] - 0s 30us/sample - loss: 94.7491 - mse: 94.7491 - val_loss: 42.8532 - val_mse: 42.8532\n",
      "Epoch 5/50\n",
      "363/363 [==============================] - 0s 33us/sample - loss: 89.5739 - mse: 89.5739 - val_loss: 57.7056 - val_mse: 57.7056\n",
      "Epoch 6/50\n",
      "363/363 [==============================] - 0s 36us/sample - loss: 90.5454 - mse: 90.5454 - val_loss: 47.6181 - val_mse: 47.6181\n",
      "Epoch 7/50\n",
      "363/363 [==============================] - 0s 38us/sample - loss: 90.5654 - mse: 90.5654 - val_loss: 48.4962 - val_mse: 48.4962\n",
      "Epoch 8/50\n",
      "363/363 [==============================] - 0s 30us/sample - loss: 91.2976 - mse: 91.2976 - val_loss: 45.0383 - val_mse: 45.0383\n",
      "Epoch 9/50\n",
      "363/363 [==============================] - 0s 30us/sample - loss: 91.8181 - mse: 91.8181 - val_loss: 56.7530 - val_mse: 56.7530\n",
      "Epoch 10/50\n",
      "363/363 [==============================] - 0s 33us/sample - loss: 90.7890 - mse: 90.7890 - val_loss: 45.2494 - val_mse: 45.2494\n",
      "Epoch 11/50\n",
      "363/363 [==============================] - 0s 36us/sample - loss: 90.0405 - mse: 90.0405 - val_loss: 45.5217 - val_mse: 45.5217\n",
      "Epoch 12/50\n",
      "363/363 [==============================] - 0s 33us/sample - loss: 98.4721 - mse: 98.4721 - val_loss: 46.9503 - val_mse: 46.9503\n",
      "Epoch 13/50\n",
      "363/363 [==============================] - 0s 33us/sample - loss: 94.8676 - mse: 94.8676 - val_loss: 49.3466 - val_mse: 49.3466\n",
      "Epoch 14/50\n",
      "363/363 [==============================] - 0s 30us/sample - loss: 95.2054 - mse: 95.2054 - val_loss: 43.0601 - val_mse: 43.0601\n",
      "Epoch 15/50\n",
      "363/363 [==============================] - 0s 30us/sample - loss: 90.3491 - mse: 90.3491 - val_loss: 47.9964 - val_mse: 47.9964\n",
      "Epoch 16/50\n",
      "363/363 [==============================] - 0s 36us/sample - loss: 90.9483 - mse: 90.9483 - val_loss: 56.6630 - val_mse: 56.6630\n",
      "Epoch 17/50\n",
      "363/363 [==============================] - 0s 30us/sample - loss: 93.3797 - mse: 93.3797 - val_loss: 56.7072 - val_mse: 56.7072\n",
      "Epoch 18/50\n",
      "363/363 [==============================] - 0s 30us/sample - loss: 96.3901 - mse: 96.3901 - val_loss: 43.8702 - val_mse: 43.8702\n",
      "Epoch 19/50\n",
      "363/363 [==============================] - 0s 33us/sample - loss: 92.3994 - mse: 92.3994 - val_loss: 43.4435 - val_mse: 43.4435\n",
      "Epoch 20/50\n",
      "363/363 [==============================] - 0s 36us/sample - loss: 92.3528 - mse: 92.3528 - val_loss: 42.5639 - val_mse: 42.5639\n",
      "Epoch 21/50\n",
      "363/363 [==============================] - 0s 33us/sample - loss: 90.8832 - mse: 90.8832 - val_loss: 42.1832 - val_mse: 42.1832\n",
      "Epoch 22/50\n",
      "363/363 [==============================] - 0s 33us/sample - loss: 92.4236 - mse: 92.4236 - val_loss: 43.5466 - val_mse: 43.5466\n",
      "Epoch 23/50\n",
      "363/363 [==============================] - 0s 30us/sample - loss: 89.7809 - mse: 89.7809 - val_loss: 42.6146 - val_mse: 42.6146\n",
      "Epoch 24/50\n",
      "363/363 [==============================] - 0s 30us/sample - loss: 89.7959 - mse: 89.7959 - val_loss: 42.7372 - val_mse: 42.7372\n",
      "Epoch 25/50\n",
      "363/363 [==============================] - 0s 30us/sample - loss: 90.4341 - mse: 90.4341 - val_loss: 42.5979 - val_mse: 42.5979\n",
      "Epoch 26/50\n",
      "363/363 [==============================] - 0s 30us/sample - loss: 94.0890 - mse: 94.0890 - val_loss: 104.1373 - val_mse: 104.1373\n",
      "Epoch 27/50\n",
      "363/363 [==============================] - 0s 33us/sample - loss: 92.8684 - mse: 92.8684 - val_loss: 46.0540 - val_mse: 46.0540\n",
      "Epoch 28/50\n",
      "363/363 [==============================] - 0s 30us/sample - loss: 90.5583 - mse: 90.5582 - val_loss: 42.6444 - val_mse: 42.6444\n",
      "Epoch 29/50\n",
      "363/363 [==============================] - 0s 30us/sample - loss: 91.1563 - mse: 91.1563 - val_loss: 68.0545 - val_mse: 68.0545\n",
      "Epoch 30/50\n",
      "363/363 [==============================] - 0s 36us/sample - loss: 93.5986 - mse: 93.5986 - val_loss: 67.7389 - val_mse: 67.7389\n",
      "Epoch 31/50\n",
      "363/363 [==============================] - 0s 33us/sample - loss: 91.7930 - mse: 91.7931 - val_loss: 46.3258 - val_mse: 46.3258\n",
      "Epoch 32/50\n",
      "363/363 [==============================] - 0s 30us/sample - loss: 91.4424 - mse: 91.4424 - val_loss: 49.8882 - val_mse: 49.8882\n",
      "Epoch 33/50\n",
      "363/363 [==============================] - 0s 30us/sample - loss: 90.3995 - mse: 90.3995 - val_loss: 107.1527 - val_mse: 107.1527\n",
      "Epoch 34/50\n",
      "363/363 [==============================] - 0s 30us/sample - loss: 98.5094 - mse: 98.5094 - val_loss: 65.0191 - val_mse: 65.0191\n",
      "Epoch 35/50\n",
      "363/363 [==============================] - 0s 33us/sample - loss: 93.4189 - mse: 93.4189 - val_loss: 72.1617 - val_mse: 72.1617\n",
      "Epoch 36/50\n",
      "363/363 [==============================] - 0s 30us/sample - loss: 90.8054 - mse: 90.8054 - val_loss: 45.0880 - val_mse: 45.0880\n",
      "Epoch 37/50\n",
      "363/363 [==============================] - 0s 30us/sample - loss: 90.9304 - mse: 90.9304 - val_loss: 46.4763 - val_mse: 46.4763\n",
      "Epoch 38/50\n",
      "363/363 [==============================] - 0s 30us/sample - loss: 91.6978 - mse: 91.6978 - val_loss: 54.8090 - val_mse: 54.8090\n",
      "Epoch 39/50\n",
      "363/363 [==============================] - 0s 33us/sample - loss: 89.0719 - mse: 89.0719 - val_loss: 54.5746 - val_mse: 54.5746\n",
      "Epoch 40/50\n",
      "363/363 [==============================] - 0s 30us/sample - loss: 98.8905 - mse: 98.8905 - val_loss: 42.9086 - val_mse: 42.9086\n",
      "Epoch 41/50\n",
      "363/363 [==============================] - 0s 33us/sample - loss: 90.2021 - mse: 90.2021 - val_loss: 43.1430 - val_mse: 43.1430\n",
      "Epoch 42/50\n",
      "363/363 [==============================] - 0s 33us/sample - loss: 91.5820 - mse: 91.5820 - val_loss: 45.6484 - val_mse: 45.6484\n",
      "Epoch 43/50\n",
      "363/363 [==============================] - 0s 33us/sample - loss: 91.0964 - mse: 91.0964 - val_loss: 43.8416 - val_mse: 43.8416\n",
      "Epoch 44/50\n",
      "363/363 [==============================] - 0s 33us/sample - loss: 90.7179 - mse: 90.7179 - val_loss: 42.6991 - val_mse: 42.6991\n",
      "Epoch 45/50\n",
      "363/363 [==============================] - 0s 30us/sample - loss: 93.1701 - mse: 93.1700 - val_loss: 64.5591 - val_mse: 64.5591\n",
      "Epoch 46/50\n",
      "363/363 [==============================] - 0s 30us/sample - loss: 99.3535 - mse: 99.3535 - val_loss: 48.0819 - val_mse: 48.0819\n",
      "Epoch 47/50\n",
      "363/363 [==============================] - 0s 33us/sample - loss: 95.0234 - mse: 95.0234 - val_loss: 42.6896 - val_mse: 42.6896\n",
      "Epoch 48/50\n",
      "363/363 [==============================] - 0s 33us/sample - loss: 90.5302 - mse: 90.5302 - val_loss: 46.5266 - val_mse: 46.5266\n",
      "Epoch 49/50\n",
      "363/363 [==============================] - 0s 33us/sample - loss: 98.7516 - mse: 98.7516 - val_loss: 56.0105 - val_mse: 56.0105\n",
      "Epoch 50/50\n",
      "363/363 [==============================] - 0s 33us/sample - loss: 91.2100 - mse: 91.2100 - val_loss: 42.9492 - val_mse: 42.9492\n"
     ]
    },
    {
     "data": {
      "text/plain": [
       "<tensorflow.python.keras.callbacks.History at 0x1f2d4b878c8>"
      ]
     },
     "execution_count": 4,
     "metadata": {},
     "output_type": "execute_result"
    }
   ],
   "source": [
    "# 训练\n",
    "model.fit(x_train, y_train, batch_size=50, epochs=50, validation_split=0.1, verbose=1)"
   ]
  },
  {
   "cell_type": "code",
   "execution_count": 5,
   "metadata": {},
   "outputs": [
    {
     "name": "stdout",
     "output_type": "stream",
     "text": [
      "102/102 [==============================] - 0s 332us/sample - loss: 87.5617 - mse: 87.5617\n"
     ]
    }
   ],
   "source": [
    "result = model.evaluate(x_test, y_test)"
   ]
  },
  {
   "cell_type": "code",
   "execution_count": 6,
   "metadata": {},
   "outputs": [
    {
     "name": "stdout",
     "output_type": "stream",
     "text": [
      "['loss', 'mse']\n",
      "[87.56168111165364, 87.561676]\n"
     ]
    }
   ],
   "source": [
    "print(model.metrics_names)\n",
    "print(result)"
   ]
  },
  {
   "cell_type": "markdown",
   "metadata": {},
   "source": [
    "## 分类任务"
   ]
  },
  {
   "cell_type": "code",
   "execution_count": 7,
   "metadata": {},
   "outputs": [
    {
     "name": "stdout",
     "output_type": "stream",
     "text": [
      "(398, 30)   (398,)\n",
      "(171, 30)   (171,)\n"
     ]
    }
   ],
   "source": [
    "from sklearn.datasets import load_breast_cancer\n",
    "from sklearn.model_selection import train_test_split\n",
    "\n",
    "# 导入数据\n",
    "whole_data = load_breast_cancer()\n",
    "x_data = whole_data.data\n",
    "y_data = whole_data.target\n",
    "\n",
    "x_train, x_test, y_train, y_test = train_test_split(x_data, y_data, test_size=0.3, random_state=7)\n",
    "\n",
    "print(x_train.shape, ' ', y_train.shape)\n",
    "print(x_test.shape, ' ', y_test.shape)"
   ]
  },
  {
   "cell_type": "code",
   "execution_count": 8,
   "metadata": {},
   "outputs": [
    {
     "name": "stdout",
     "output_type": "stream",
     "text": [
      "Model: \"sequential_1\"\n",
      "_________________________________________________________________\n",
      "Layer (type)                 Output Shape              Param #   \n",
      "=================================================================\n",
      "dense_4 (Dense)              (None, 32)                992       \n",
      "_________________________________________________________________\n",
      "dense_5 (Dense)              (None, 32)                1056      \n",
      "_________________________________________________________________\n",
      "dense_6 (Dense)              (None, 1)                 33        \n",
      "=================================================================\n",
      "Total params: 2,081\n",
      "Trainable params: 2,081\n",
      "Non-trainable params: 0\n",
      "_________________________________________________________________\n"
     ]
    }
   ],
   "source": [
    "# 构建模型\n",
    "model = keras.Sequential([\n",
    "    layers.Dense(32, activation='relu', input_shape=(30,)),\n",
    "    layers.Dense(32, activation='relu'),\n",
    "    layers.Dense(1, activation='sigmoid')\n",
    "])\n",
    "\n",
    "model.compile(optimizer=keras.optimizers.Adam(),\n",
    "             loss=keras.losses.binary_crossentropy,\n",
    "             metrics=['accuracy'])\n",
    "model.summary()"
   ]
  },
  {
   "cell_type": "code",
   "execution_count": 9,
   "metadata": {},
   "outputs": [
    {
     "name": "stderr",
     "output_type": "stream",
     "text": [
      "WARNING: Logging before flag parsing goes to stderr.\n",
      "W0907 19:15:02.075530 13592 deprecation.py:323] From C:\\Users\\44310\\AppData\\Roaming\\Python\\Python37\\site-packages\\tensorflow\\python\\ops\\math_grad.py:1250: add_dispatch_support.<locals>.wrapper (from tensorflow.python.ops.array_ops) is deprecated and will be removed in a future version.\n",
      "Instructions for updating:\n",
      "Use tf.where in 2.0, which has the same broadcast rule as np.where\n"
     ]
    },
    {
     "name": "stdout",
     "output_type": "stream",
     "text": [
      "Train on 398 samples\n",
      "Epoch 1/10\n",
      "398/398 [==============================] - 0s 324us/sample - loss: 1.1159 - accuracy: 0.7839\n",
      "Epoch 2/10\n",
      "398/398 [==============================] - 0s 27us/sample - loss: 0.6317 - accuracy: 0.8442\n",
      "Epoch 3/10\n",
      "398/398 [==============================] - 0s 25us/sample - loss: 0.4091 - accuracy: 0.8995\n",
      "Epoch 4/10\n",
      "398/398 [==============================] - 0s 25us/sample - loss: 0.3753 - accuracy: 0.8869\n",
      "Epoch 5/10\n",
      "398/398 [==============================] - 0s 28us/sample - loss: 0.4152 - accuracy: 0.8970\n",
      "Epoch 6/10\n",
      "398/398 [==============================] - 0s 28us/sample - loss: 0.3635 - accuracy: 0.8970\n",
      "Epoch 7/10\n",
      "398/398 [==============================] - 0s 28us/sample - loss: 0.3383 - accuracy: 0.9095\n",
      "Epoch 8/10\n",
      "398/398 [==============================] - 0s 28us/sample - loss: 0.2657 - accuracy: 0.9095\n",
      "Epoch 9/10\n",
      "398/398 [==============================] - 0s 28us/sample - loss: 0.2429 - accuracy: 0.9070\n",
      "Epoch 10/10\n",
      "398/398 [==============================] - 0s 27us/sample - loss: 0.2460 - accuracy: 0.9171\n"
     ]
    },
    {
     "data": {
      "text/plain": [
       "<tensorflow.python.keras.callbacks.History at 0x1f2e6a3c708>"
      ]
     },
     "execution_count": 9,
     "metadata": {},
     "output_type": "execute_result"
    }
   ],
   "source": [
    "model.fit(x_train, y_train, batch_size=64, epochs=10, verbose=1)"
   ]
  },
  {
   "cell_type": "code",
   "execution_count": 10,
   "metadata": {},
   "outputs": [
    {
     "name": "stdout",
     "output_type": "stream",
     "text": [
      "171/171 [==============================] - 0s 233us/sample - loss: 0.2012 - accuracy: 0.9298\n"
     ]
    },
    {
     "data": {
      "text/plain": [
       "[0.2011656769883563, 0.9298246]"
      ]
     },
     "execution_count": 10,
     "metadata": {},
     "output_type": "execute_result"
    }
   ],
   "source": [
    "model.evaluate(x_test, y_test)"
   ]
  },
  {
   "cell_type": "code",
   "execution_count": 11,
   "metadata": {},
   "outputs": [
    {
     "name": "stdout",
     "output_type": "stream",
     "text": [
      "['loss', 'accuracy']\n"
     ]
    }
   ],
   "source": [
    "print(model.metrics_names)"
   ]
  },
  {
   "cell_type": "code",
   "execution_count": null,
   "metadata": {},
   "outputs": [],
   "source": []
  }
 ],
 "metadata": {
  "kernelspec": {
   "display_name": "Python 3",
   "language": "python",
   "name": "python3"
  },
  "language_info": {
   "codemirror_mode": {
    "name": "ipython",
    "version": 3
   },
   "file_extension": ".py",
   "mimetype": "text/x-python",
   "name": "python",
   "nbconvert_exporter": "python",
   "pygments_lexer": "ipython3",
   "version": "3.7.4"
  }
 },
 "nbformat": 4,
 "nbformat_minor": 2
}
